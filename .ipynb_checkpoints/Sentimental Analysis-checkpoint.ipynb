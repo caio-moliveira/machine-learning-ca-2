{
 "cells": [
  {
   "cell_type": "code",
   "execution_count": 35,
   "metadata": {
    "colab": {
     "base_uri": "https://localhost:8080/"
    },
    "executionInfo": {
     "elapsed": 6362,
     "status": "ok",
     "timestamp": 1716691490081,
     "user": {
      "displayName": "Caio Oliveira",
      "userId": "01921506838875341927"
     },
     "user_tz": -60
    },
    "id": "4UAFYfrTiEZO",
    "outputId": "772b1b27-279b-406f-e838-0e3ecb7dd0dd"
   },
   "outputs": [],
   "source": [
    "import os\n",
    "import pandas as pd\n",
    "import numpy as np\n",
    "import seaborn as sns\n",
    "import re\n",
    "import string\n",
    "from string import punctuation\n",
    "import nltk\n",
    "from nltk.corpus import stopwords\n",
    "from nltk.stem import WordNetLemmatizer\n",
    "from nltk.corpus import wordnet\n",
    "\n",
    "from imblearn.over_sampling import SMOTE\n",
    "from imblearn.over_sampling import ADASYN\n",
    "from textblob import download_corpora\n",
    "import textblob\n",
    "from textblob import TextBlob\n",
    "\n",
    "import matplotlib.pyplot as plt\n",
    "from sklearn.model_selection import train_test_split\n",
    "from sklearn.feature_extraction.text import CountVectorizer\n",
    "from sklearn.feature_extraction.text import TfidfTransformer\n",
    "from sklearn.metrics import confusion_matrix, classification_report\n",
    "\n",
    "import tensorflow as tf\n",
    "from tensorflow.keras.models import Sequential\n",
    "from tensorflow.keras.layers import Dense, Dropout, BatchNormalization, Activation\n",
    "from tensorflow.keras.callbacks import EarlyStopping, ModelCheckpoint\n",
    "from tensorflow.keras.regularizers import l2\n",
    "\n",
    "from collections import Counter\n",
    "\n"
   ]
  },
  {
   "cell_type": "code",
   "execution_count": 2,
   "metadata": {},
   "outputs": [],
   "source": [
    "# Set environment variables for single-threaded execution\n",
    "os.environ[\"OPENBLAS_NUM_THREADS\"] = \"1\"\n",
    "os.environ[\"OMP_NUM_THREADS\"] = \"1\"\n",
    "\n"
   ]
  },
  {
   "cell_type": "code",
   "execution_count": 3,
   "metadata": {},
   "outputs": [
    {
     "name": "stderr",
     "output_type": "stream",
     "text": [
      "[nltk_data] Downloading package stopwords to\n",
      "[nltk_data]     C:\\Users\\35383\\AppData\\Roaming\\nltk_data...\n",
      "[nltk_data]   Package stopwords is already up-to-date!\n",
      "[nltk_data] Downloading package wordnet to\n",
      "[nltk_data]     C:\\Users\\35383\\AppData\\Roaming\\nltk_data...\n",
      "[nltk_data]   Package wordnet is already up-to-date!\n",
      "[nltk_data] Downloading package omw-1.4 to\n",
      "[nltk_data]     C:\\Users\\35383\\AppData\\Roaming\\nltk_data...\n",
      "[nltk_data]   Package omw-1.4 is already up-to-date!\n"
     ]
    },
    {
     "data": {
      "text/plain": [
       "True"
      ]
     },
     "execution_count": 3,
     "metadata": {},
     "output_type": "execute_result"
    }
   ],
   "source": [
    "nltk.download('stopwords')\n",
    "nltk.download('wordnet')\n",
    "nltk.download('omw-1.4')"
   ]
  },
  {
   "cell_type": "code",
   "execution_count": 4,
   "metadata": {
    "colab": {
     "base_uri": "https://localhost:8080/",
     "height": 73
    },
    "executionInfo": {
     "elapsed": 19620,
     "status": "ok",
     "timestamp": 1716691509696,
     "user": {
      "displayName": "Caio Oliveira",
      "userId": "01921506838875341927"
     },
     "user_tz": -60
    },
    "id": "mhGhyAn6iKSi",
    "outputId": "756c15e7-84e1-4581-b611-fb3d004d2a7f"
   },
   "outputs": [],
   "source": [
    "# from google.colab import files\n",
    "\n",
    "# # Upload the file\n",
    "# uploaded = files.upload()\n",
    "\n",
    "# # Get the filename\n",
    "# filename = list(uploaded.keys())[0]\n",
    "\n",
    "# # Read the CSV file into a DataFrame\n",
    "# data = pd.read_csv(filename)\n"
   ]
  },
  {
   "cell_type": "code",
   "execution_count": 5,
   "metadata": {},
   "outputs": [],
   "source": [
    "file_path = 'reviews.csv'\n",
    "data = pd.read_csv(file_path)\n"
   ]
  },
  {
   "cell_type": "code",
   "execution_count": 6,
   "metadata": {
    "colab": {
     "base_uri": "https://localhost:8080/",
     "height": 310
    },
    "executionInfo": {
     "elapsed": 29,
     "status": "ok",
     "timestamp": 1716691509696,
     "user": {
      "displayName": "Caio Oliveira",
      "userId": "01921506838875341927"
     },
     "user_tz": -60
    },
    "id": "Zc32oKMJjJ7U",
    "outputId": "2192dae1-c3af-448b-f076-1be4ccaeb4cd"
   },
   "outputs": [
    {
     "data": {
      "text/html": [
       "<div>\n",
       "<style scoped>\n",
       "    .dataframe tbody tr th:only-of-type {\n",
       "        vertical-align: middle;\n",
       "    }\n",
       "\n",
       "    .dataframe tbody tr th {\n",
       "        vertical-align: top;\n",
       "    }\n",
       "\n",
       "    .dataframe thead th {\n",
       "        text-align: right;\n",
       "    }\n",
       "</style>\n",
       "<table border=\"1\" class=\"dataframe\">\n",
       "  <thead>\n",
       "    <tr style=\"text-align: right;\">\n",
       "      <th></th>\n",
       "      <th>Review date</th>\n",
       "      <th>Guest name</th>\n",
       "      <th>Reservation Number</th>\n",
       "      <th>Review title</th>\n",
       "      <th>Positive review</th>\n",
       "      <th>Negative review</th>\n",
       "      <th>Review score</th>\n",
       "      <th>Staff</th>\n",
       "      <th>Cleanliness</th>\n",
       "      <th>Location</th>\n",
       "      <th>Facilities</th>\n",
       "      <th>Comfort</th>\n",
       "      <th>Value for money</th>\n",
       "      <th>Property reply</th>\n",
       "    </tr>\n",
       "  </thead>\n",
       "  <tbody>\n",
       "    <tr>\n",
       "      <th>0</th>\n",
       "      <td>2021-05-26 13:52:54</td>\n",
       "      <td>Sarah</td>\n",
       "      <td>2.916039e+09</td>\n",
       "      <td>Great stay</td>\n",
       "      <td>Lovely staff, lovely clean hotel, great food</td>\n",
       "      <td>NaN</td>\n",
       "      <td>10.0</td>\n",
       "      <td>10.0</td>\n",
       "      <td>10.0</td>\n",
       "      <td>7.5</td>\n",
       "      <td>10.0</td>\n",
       "      <td>10.0</td>\n",
       "      <td>10.0</td>\n",
       "      <td>Thank you for taking the time to share your re...</td>\n",
       "    </tr>\n",
       "    <tr>\n",
       "      <th>1</th>\n",
       "      <td>2021-05-26 17:25:42</td>\n",
       "      <td>Diana</td>\n",
       "      <td>3.068738e+09</td>\n",
       "      <td>NaN</td>\n",
       "      <td>Location</td>\n",
       "      <td>NaN</td>\n",
       "      <td>9.0</td>\n",
       "      <td>10.0</td>\n",
       "      <td>7.5</td>\n",
       "      <td>10.0</td>\n",
       "      <td>10.0</td>\n",
       "      <td>10.0</td>\n",
       "      <td>10.0</td>\n",
       "      <td>Dear Diana,\\nThank you for the 9/10 rating.\\nI...</td>\n",
       "    </tr>\n",
       "    <tr>\n",
       "      <th>2</th>\n",
       "      <td>2021-05-27 13:25:33</td>\n",
       "      <td>ryane</td>\n",
       "      <td>2.505493e+09</td>\n",
       "      <td>Great hotel with helpful friendly staff.</td>\n",
       "      <td>NaN</td>\n",
       "      <td>NaN</td>\n",
       "      <td>10.0</td>\n",
       "      <td>10.0</td>\n",
       "      <td>10.0</td>\n",
       "      <td>10.0</td>\n",
       "      <td>10.0</td>\n",
       "      <td>10.0</td>\n",
       "      <td>10.0</td>\n",
       "      <td>NaN</td>\n",
       "    </tr>\n",
       "    <tr>\n",
       "      <th>3</th>\n",
       "      <td>2021-05-28 09:27:09</td>\n",
       "      <td>lorraine</td>\n",
       "      <td>3.332737e+09</td>\n",
       "      <td>NaN</td>\n",
       "      <td>The room was spotless and the food was fabulous.</td>\n",
       "      <td>NaN</td>\n",
       "      <td>9.0</td>\n",
       "      <td>10.0</td>\n",
       "      <td>7.5</td>\n",
       "      <td>10.0</td>\n",
       "      <td>10.0</td>\n",
       "      <td>10.0</td>\n",
       "      <td>10.0</td>\n",
       "      <td>Dear Lorraine,\\nThanks for the great review of...</td>\n",
       "    </tr>\n",
       "    <tr>\n",
       "      <th>4</th>\n",
       "      <td>2021-05-30 17:15:46</td>\n",
       "      <td>Mike</td>\n",
       "      <td>2.650766e+09</td>\n",
       "      <td>NaN</td>\n",
       "      <td>Great location, excellent food and friendly st...</td>\n",
       "      <td>NaN</td>\n",
       "      <td>10.0</td>\n",
       "      <td>10.0</td>\n",
       "      <td>10.0</td>\n",
       "      <td>10.0</td>\n",
       "      <td>7.5</td>\n",
       "      <td>10.0</td>\n",
       "      <td>10.0</td>\n",
       "      <td>Dear Mike, \\nThank you for the great review an...</td>\n",
       "    </tr>\n",
       "  </tbody>\n",
       "</table>\n",
       "</div>"
      ],
      "text/plain": [
       "           Review date Guest name  Reservation Number  \\\n",
       "0  2021-05-26 13:52:54      Sarah        2.916039e+09   \n",
       "1  2021-05-26 17:25:42      Diana        3.068738e+09   \n",
       "2  2021-05-27 13:25:33      ryane        2.505493e+09   \n",
       "3  2021-05-28 09:27:09   lorraine        3.332737e+09   \n",
       "4  2021-05-30 17:15:46       Mike        2.650766e+09   \n",
       "\n",
       "                               Review title  \\\n",
       "0                                Great stay   \n",
       "1                                       NaN   \n",
       "2  Great hotel with helpful friendly staff.   \n",
       "3                                       NaN   \n",
       "4                                       NaN   \n",
       "\n",
       "                                     Positive review Negative review  \\\n",
       "0       Lovely staff, lovely clean hotel, great food             NaN   \n",
       "1                                          Location              NaN   \n",
       "2                                                NaN             NaN   \n",
       "3  The room was spotless and the food was fabulous.              NaN   \n",
       "4  Great location, excellent food and friendly st...             NaN   \n",
       "\n",
       "   Review score  Staff  Cleanliness  Location  Facilities  Comfort  \\\n",
       "0          10.0   10.0         10.0       7.5        10.0     10.0   \n",
       "1           9.0   10.0          7.5      10.0        10.0     10.0   \n",
       "2          10.0   10.0         10.0      10.0        10.0     10.0   \n",
       "3           9.0   10.0          7.5      10.0        10.0     10.0   \n",
       "4          10.0   10.0         10.0      10.0         7.5     10.0   \n",
       "\n",
       "   Value for money                                     Property reply  \n",
       "0             10.0  Thank you for taking the time to share your re...  \n",
       "1             10.0  Dear Diana,\\nThank you for the 9/10 rating.\\nI...  \n",
       "2             10.0                                                NaN  \n",
       "3             10.0  Dear Lorraine,\\nThanks for the great review of...  \n",
       "4             10.0  Dear Mike, \\nThank you for the great review an...  "
      ]
     },
     "execution_count": 6,
     "metadata": {},
     "output_type": "execute_result"
    }
   ],
   "source": [
    "data.head()"
   ]
  },
  {
   "cell_type": "code",
   "execution_count": 7,
   "metadata": {
    "executionInfo": {
     "elapsed": 27,
     "status": "ok",
     "timestamp": 1716691509697,
     "user": {
      "displayName": "Caio Oliveira",
      "userId": "01921506838875341927"
     },
     "user_tz": -60
    },
    "id": "DZ0rBDN5i86v"
   },
   "outputs": [],
   "source": [
    "data = data.drop(['Review date', 'Guest name', 'Reservation Number','Review title','Staff','Cleanliness','Location','Facilities','Comfort','Value for money','Property reply' ], axis=1)\n",
    "data.dropna(inplace=True)"
   ]
  },
  {
   "cell_type": "code",
   "execution_count": 8,
   "metadata": {},
   "outputs": [],
   "source": [
    "lemmatizer = WordNetLemmatizer()\n",
    "\n",
    "def lemmatize_text(text):\n",
    "    words = text.split()\n",
    "    lemmatized_words = [lemmatizer.lemmatize(word, wordnet.VERB) for word in words]\n",
    "    return ' '.join(lemmatized_words)\n"
   ]
  },
  {
   "cell_type": "code",
   "execution_count": 9,
   "metadata": {},
   "outputs": [],
   "source": [
    "# Combine the 'Positive review' and 'Negative review' columns into a single 'Review' column\n",
    "data['Review'] = data['Positive review'].fillna('') + ' ' + data['Negative review'].fillna('')"
   ]
  },
  {
   "cell_type": "code",
   "execution_count": 10,
   "metadata": {},
   "outputs": [],
   "source": [
    "# Apply lemmatization to the 'Review' column\n",
    "data['Review'] = data['Review'].apply(lemmatize_text)"
   ]
  },
  {
   "cell_type": "code",
   "execution_count": 11,
   "metadata": {
    "executionInfo": {
     "elapsed": 26,
     "status": "ok",
     "timestamp": 1716691509697,
     "user": {
      "displayName": "Caio Oliveira",
      "userId": "01921506838875341927"
     },
     "user_tz": -60
    },
    "id": "wVkaPFtjiKVZ"
   },
   "outputs": [],
   "source": [
    "# Adapt the sentiment classification to the review scores in our dataset\n",
    "#data['Sentiment'] = data['Review score'].apply(lambda x: 'Positive' if x > 6 else ('Neutral' if x == 5 else 'Negative'))"
   ]
  },
  {
   "cell_type": "code",
   "execution_count": 12,
   "metadata": {},
   "outputs": [
    {
     "data": {
      "text/html": [
       "<div>\n",
       "<style scoped>\n",
       "    .dataframe tbody tr th:only-of-type {\n",
       "        vertical-align: middle;\n",
       "    }\n",
       "\n",
       "    .dataframe tbody tr th {\n",
       "        vertical-align: top;\n",
       "    }\n",
       "\n",
       "    .dataframe thead th {\n",
       "        text-align: right;\n",
       "    }\n",
       "</style>\n",
       "<table border=\"1\" class=\"dataframe\">\n",
       "  <thead>\n",
       "    <tr style=\"text-align: right;\">\n",
       "      <th></th>\n",
       "      <th>Positive review</th>\n",
       "      <th>Negative review</th>\n",
       "      <th>Review score</th>\n",
       "      <th>Review</th>\n",
       "    </tr>\n",
       "  </thead>\n",
       "  <tbody>\n",
       "    <tr>\n",
       "      <th>5</th>\n",
       "      <td>Everything was amazing staff room bar staff ð</td>\n",
       "      <td>Everything was great amazing time</td>\n",
       "      <td>10.0</td>\n",
       "      <td>Everything be amaze staff room bar staff ð ...</td>\n",
       "    </tr>\n",
       "    <tr>\n",
       "      <th>7</th>\n",
       "      <td>Location is great. Room was very clean and com...</td>\n",
       "      <td>Staff trying to come into our room with no rea...</td>\n",
       "      <td>8.0</td>\n",
       "      <td>Location be great. Room be very clean and comf...</td>\n",
       "    </tr>\n",
       "    <tr>\n",
       "      <th>8</th>\n",
       "      <td>Spotless clean food was great and staff where ...</td>\n",
       "      <td>Nothing got what you paid for couldn’t fault it</td>\n",
       "      <td>10.0</td>\n",
       "      <td>Spotless clean food be great and staff where v...</td>\n",
       "    </tr>\n",
       "    <tr>\n",
       "      <th>9</th>\n",
       "      <td>I really loved the room it was lovely and clean</td>\n",
       "      <td>I liked everything!!</td>\n",
       "      <td>10.0</td>\n",
       "      <td>I really love the room it be lovely and clean ...</td>\n",
       "    </tr>\n",
       "    <tr>\n",
       "      <th>10</th>\n",
       "      <td>Convenient location, clean and tidy with excel...</td>\n",
       "      <td>A little run down looking from the outside. Co...</td>\n",
       "      <td>8.0</td>\n",
       "      <td>Convenient location, clean and tidy with excel...</td>\n",
       "    </tr>\n",
       "  </tbody>\n",
       "</table>\n",
       "</div>"
      ],
      "text/plain": [
       "                                      Positive review  \\\n",
       "5    Everything was amazing staff room bar staff ð   \n",
       "7   Location is great. Room was very clean and com...   \n",
       "8   Spotless clean food was great and staff where ...   \n",
       "9     I really loved the room it was lovely and clean   \n",
       "10  Convenient location, clean and tidy with excel...   \n",
       "\n",
       "                                      Negative review  Review score  \\\n",
       "5                  Everything was great amazing time           10.0   \n",
       "7   Staff trying to come into our room with no rea...           8.0   \n",
       "8    Nothing got what you paid for couldn’t fault it           10.0   \n",
       "9                                I liked everything!!          10.0   \n",
       "10  A little run down looking from the outside. Co...           8.0   \n",
       "\n",
       "                                               Review  \n",
       "5   Everything be amaze staff room bar staff ð ...  \n",
       "7   Location be great. Room be very clean and comf...  \n",
       "8   Spotless clean food be great and staff where v...  \n",
       "9   I really love the room it be lovely and clean ...  \n",
       "10  Convenient location, clean and tidy with excel...  "
      ]
     },
     "execution_count": 12,
     "metadata": {},
     "output_type": "execute_result"
    }
   ],
   "source": [
    "data.head()"
   ]
  },
  {
   "cell_type": "markdown",
   "metadata": {},
   "source": [
    "## Applying Textblob"
   ]
  },
  {
   "cell_type": "code",
   "execution_count": 13,
   "metadata": {},
   "outputs": [],
   "source": [
    "def get_sentiment(text):\n",
    "    analysis = TextBlob(text)\n",
    "    if analysis.sentiment.polarity > 0:\n",
    "        return 'Positive'\n",
    "    elif analysis.sentiment.polarity == 0:\n",
    "        return 'Neutral'\n",
    "    else:\n",
    "        return 'Negative'\n",
    "\n"
   ]
  },
  {
   "cell_type": "code",
   "execution_count": 14,
   "metadata": {},
   "outputs": [],
   "source": [
    "# Apply sentiment analysis to both columns\n",
    "data['Review Sentiment'] = data['Review'].apply(get_sentiment)\n"
   ]
  },
  {
   "cell_type": "code",
   "execution_count": 15,
   "metadata": {
    "colab": {
     "base_uri": "https://localhost:8080/",
     "height": 206
    },
    "executionInfo": {
     "elapsed": 26,
     "status": "ok",
     "timestamp": 1716691509697,
     "user": {
      "displayName": "Caio Oliveira",
      "userId": "01921506838875341927"
     },
     "user_tz": -60
    },
    "id": "dqs7aoO7jzwA",
    "outputId": "e58dd985-24cb-4db6-b608-0bdc351fa833"
   },
   "outputs": [
    {
     "data": {
      "text/html": [
       "<div>\n",
       "<style scoped>\n",
       "    .dataframe tbody tr th:only-of-type {\n",
       "        vertical-align: middle;\n",
       "    }\n",
       "\n",
       "    .dataframe tbody tr th {\n",
       "        vertical-align: top;\n",
       "    }\n",
       "\n",
       "    .dataframe thead th {\n",
       "        text-align: right;\n",
       "    }\n",
       "</style>\n",
       "<table border=\"1\" class=\"dataframe\">\n",
       "  <thead>\n",
       "    <tr style=\"text-align: right;\">\n",
       "      <th></th>\n",
       "      <th>Positive review</th>\n",
       "      <th>Negative review</th>\n",
       "      <th>Review score</th>\n",
       "      <th>Review</th>\n",
       "      <th>Review Sentiment</th>\n",
       "    </tr>\n",
       "  </thead>\n",
       "  <tbody>\n",
       "    <tr>\n",
       "      <th>5</th>\n",
       "      <td>Everything was amazing staff room bar staff ð</td>\n",
       "      <td>Everything was great amazing time</td>\n",
       "      <td>10.0</td>\n",
       "      <td>Everything be amaze staff room bar staff ð ...</td>\n",
       "      <td>Positive</td>\n",
       "    </tr>\n",
       "    <tr>\n",
       "      <th>7</th>\n",
       "      <td>Location is great. Room was very clean and com...</td>\n",
       "      <td>Staff trying to come into our room with no rea...</td>\n",
       "      <td>8.0</td>\n",
       "      <td>Location be great. Room be very clean and comf...</td>\n",
       "      <td>Positive</td>\n",
       "    </tr>\n",
       "    <tr>\n",
       "      <th>8</th>\n",
       "      <td>Spotless clean food was great and staff where ...</td>\n",
       "      <td>Nothing got what you paid for couldn’t fault it</td>\n",
       "      <td>10.0</td>\n",
       "      <td>Spotless clean food be great and staff where v...</td>\n",
       "      <td>Positive</td>\n",
       "    </tr>\n",
       "    <tr>\n",
       "      <th>9</th>\n",
       "      <td>I really loved the room it was lovely and clean</td>\n",
       "      <td>I liked everything!!</td>\n",
       "      <td>10.0</td>\n",
       "      <td>I really love the room it be lovely and clean ...</td>\n",
       "      <td>Positive</td>\n",
       "    </tr>\n",
       "    <tr>\n",
       "      <th>10</th>\n",
       "      <td>Convenient location, clean and tidy with excel...</td>\n",
       "      <td>A little run down looking from the outside. Co...</td>\n",
       "      <td>8.0</td>\n",
       "      <td>Convenient location, clean and tidy with excel...</td>\n",
       "      <td>Positive</td>\n",
       "    </tr>\n",
       "  </tbody>\n",
       "</table>\n",
       "</div>"
      ],
      "text/plain": [
       "                                      Positive review  \\\n",
       "5    Everything was amazing staff room bar staff ð   \n",
       "7   Location is great. Room was very clean and com...   \n",
       "8   Spotless clean food was great and staff where ...   \n",
       "9     I really loved the room it was lovely and clean   \n",
       "10  Convenient location, clean and tidy with excel...   \n",
       "\n",
       "                                      Negative review  Review score  \\\n",
       "5                  Everything was great amazing time           10.0   \n",
       "7   Staff trying to come into our room with no rea...           8.0   \n",
       "8    Nothing got what you paid for couldn’t fault it           10.0   \n",
       "9                                I liked everything!!          10.0   \n",
       "10  A little run down looking from the outside. Co...           8.0   \n",
       "\n",
       "                                               Review Review Sentiment  \n",
       "5   Everything be amaze staff room bar staff ð ...         Positive  \n",
       "7   Location be great. Room be very clean and comf...         Positive  \n",
       "8   Spotless clean food be great and staff where v...         Positive  \n",
       "9   I really love the room it be lovely and clean ...         Positive  \n",
       "10  Convenient location, clean and tidy with excel...         Positive  "
      ]
     },
     "execution_count": 15,
     "metadata": {},
     "output_type": "execute_result"
    }
   ],
   "source": [
    "data.head()"
   ]
  },
  {
   "cell_type": "code",
   "execution_count": 16,
   "metadata": {
    "colab": {
     "base_uri": "https://localhost:8080/"
    },
    "executionInfo": {
     "elapsed": 24,
     "status": "ok",
     "timestamp": 1716691509697,
     "user": {
      "displayName": "Caio Oliveira",
      "userId": "01921506838875341927"
     },
     "user_tz": -60
    },
    "id": "94PI2ipBj0aU",
    "outputId": "a082a1f3-5f83-4c16-c6ca-1398c6d0ad00"
   },
   "outputs": [
    {
     "data": {
      "text/plain": [
       "Review Sentiment\n",
       "Positive    1112\n",
       "Neutral      292\n",
       "Negative     107\n",
       "Name: count, dtype: int64"
      ]
     },
     "execution_count": 16,
     "metadata": {},
     "output_type": "execute_result"
    }
   ],
   "source": [
    "data['Review Sentiment'].value_counts()"
   ]
  },
  {
   "cell_type": "code",
   "execution_count": null,
   "metadata": {},
   "outputs": [],
   "source": []
  },
  {
   "cell_type": "code",
   "execution_count": 17,
   "metadata": {
    "colab": {
     "base_uri": "https://localhost:8080/",
     "height": 553
    },
    "executionInfo": {
     "elapsed": 1588,
     "status": "ok",
     "timestamp": 1716691511264,
     "user": {
      "displayName": "Caio Oliveira",
      "userId": "01921506838875341927"
     },
     "user_tz": -60
    },
    "id": "TSyW4eeZj3A0",
    "outputId": "d17bd5de-8c91-4c70-a626-8e954dd86d70"
   },
   "outputs": [
    {
     "name": "stderr",
     "output_type": "stream",
     "text": [
      "C:\\Users\\35383\\AppData\\Local\\Temp\\ipykernel_4436\\888952294.py:2: FutureWarning: \n",
      "\n",
      "Passing `palette` without assigning `hue` is deprecated and will be removed in v0.14.0. Assign the `x` variable to `hue` and set `legend=False` for the same effect.\n",
      "\n",
      "  sns.countplot(x='Review score',data=data, palette='YlGnBu_r')\n"
     ]
    },
    {
     "data": {
      "text/plain": [
       "<Axes: xlabel='Review score', ylabel='count'>"
      ]
     },
     "execution_count": 17,
     "metadata": {},
     "output_type": "execute_result"
    },
    {
     "data": {
      "image/png": "[encoded data removed]",
      "text/plain": [
       "<Figure size 640x480 with 1 Axes>"
      ]
     },
     "metadata": {},
     "output_type": "display_data"
    }
   ],
   "source": [
    "sns.set_style('whitegrid')\n",
    "sns.countplot(x='Review score',data=data, palette='YlGnBu_r')"
   ]
  },
  {
   "cell_type": "code",
   "execution_count": 18,
   "metadata": {
    "colab": {
     "base_uri": "https://localhost:8080/",
     "height": 553
    },
    "executionInfo": {
     "elapsed": 487,
     "status": "ok",
     "timestamp": 1716691511748,
     "user": {
      "displayName": "Caio Oliveira",
      "userId": "01921506838875341927"
     },
     "user_tz": -60
    },
    "id": "cuv5qj9okkDC",
    "outputId": "43f4727c-f838-438e-91ed-4a265e072736"
   },
   "outputs": [
    {
     "name": "stderr",
     "output_type": "stream",
     "text": [
      "C:\\Users\\35383\\AppData\\Local\\Temp\\ipykernel_4436\\4280014457.py:2: FutureWarning: \n",
      "\n",
      "Passing `palette` without assigning `hue` is deprecated and will be removed in v0.14.0. Assign the `x` variable to `hue` and set `legend=False` for the same effect.\n",
      "\n",
      "  sns.countplot(x='Review Sentiment',data=data, palette='summer')\n"
     ]
    },
    {
     "data": {
      "text/plain": [
       "<Axes: xlabel='Review Sentiment', ylabel='count'>"
      ]
     },
     "execution_count": 18,
     "metadata": {},
     "output_type": "execute_result"
    },
    {
     "data": {
      "image/png": "[encoded data removed]",
      "text/plain": [
       "<Figure size 640x480 with 1 Axes>"
      ]
     },
     "metadata": {},
     "output_type": "display_data"
    }
   ],
   "source": [
    "sns.set_style('whitegrid')\n",
    "sns.countplot(x='Review Sentiment',data=data, palette='summer')"
   ]
  },
  {
   "cell_type": "markdown",
   "metadata": {
    "id": "OGKUtCnMlg9p"
   },
   "source": [
    "Data Processing"
   ]
  },
  {
   "cell_type": "code",
   "execution_count": 22,
   "metadata": {},
   "outputs": [],
   "source": [
    "def get_text_processing(text):\n",
    "    # Remove unwanted characters and keep only letters and numbers\n",
    "    text = re.sub(r'[^A-Za-z0-9\\s]', '', text)\n",
    "    \n",
    "    # Convert to lowercase\n",
    "    text = text.lower()\n",
    "    \n",
    "    # Tokenize and remove stopwords\n",
    "    stpword = stopwords.words('english')\n",
    "    words = text.split()\n",
    "    return ' '.join([word for word in words if word not in stpword])"
   ]
  },
  {
   "cell_type": "code",
   "execution_count": null,
   "metadata": {},
   "outputs": [],
   "source": []
  },
  {
   "cell_type": "code",
   "execution_count": 23,
   "metadata": {
    "executionInfo": {
     "elapsed": 1537,
     "status": "ok",
     "timestamp": 1716691513281,
     "user": {
      "displayName": "Caio Oliveira",
      "userId": "01921506838875341927"
     },
     "user_tz": -60
    },
    "id": "ULYMO_vwmAs7"
   },
   "outputs": [],
   "source": [
    "data['review'] = data['Review'].apply(get_text_processing)"
   ]
  },
  {
   "cell_type": "code",
   "execution_count": 24,
   "metadata": {},
   "outputs": [
    {
     "data": {
      "text/html": [
       "<div>\n",
       "<style scoped>\n",
       "    .dataframe tbody tr th:only-of-type {\n",
       "        vertical-align: middle;\n",
       "    }\n",
       "\n",
       "    .dataframe tbody tr th {\n",
       "        vertical-align: top;\n",
       "    }\n",
       "\n",
       "    .dataframe thead th {\n",
       "        text-align: right;\n",
       "    }\n",
       "</style>\n",
       "<table border=\"1\" class=\"dataframe\">\n",
       "  <thead>\n",
       "    <tr style=\"text-align: right;\">\n",
       "      <th></th>\n",
       "      <th>Positive review</th>\n",
       "      <th>Negative review</th>\n",
       "      <th>Review score</th>\n",
       "      <th>Review</th>\n",
       "      <th>Review Sentiment</th>\n",
       "      <th>review</th>\n",
       "    </tr>\n",
       "  </thead>\n",
       "  <tbody>\n",
       "    <tr>\n",
       "      <th>5</th>\n",
       "      <td>Everything was amazing staff room bar staff ð</td>\n",
       "      <td>Everything was great amazing time</td>\n",
       "      <td>10.0</td>\n",
       "      <td>Everything be amaze staff room bar staff ð ...</td>\n",
       "      <td>Positive</td>\n",
       "      <td>everything amaze staff room bar staff everythi...</td>\n",
       "    </tr>\n",
       "    <tr>\n",
       "      <th>7</th>\n",
       "      <td>Location is great. Room was very clean and com...</td>\n",
       "      <td>Staff trying to come into our room with no rea...</td>\n",
       "      <td>8.0</td>\n",
       "      <td>Location be great. Room be very clean and comf...</td>\n",
       "      <td>Positive</td>\n",
       "      <td>location great room clean comfortable short st...</td>\n",
       "    </tr>\n",
       "    <tr>\n",
       "      <th>8</th>\n",
       "      <td>Spotless clean food was great and staff where ...</td>\n",
       "      <td>Nothing got what you paid for couldn’t fault it</td>\n",
       "      <td>10.0</td>\n",
       "      <td>Spotless clean food be great and staff where v...</td>\n",
       "      <td>Positive</td>\n",
       "      <td>spotless clean food great staff welcome helpfu...</td>\n",
       "    </tr>\n",
       "    <tr>\n",
       "      <th>9</th>\n",
       "      <td>I really loved the room it was lovely and clean</td>\n",
       "      <td>I liked everything!!</td>\n",
       "      <td>10.0</td>\n",
       "      <td>I really love the room it be lovely and clean ...</td>\n",
       "      <td>Positive</td>\n",
       "      <td>really love room lovely clean like everything</td>\n",
       "    </tr>\n",
       "    <tr>\n",
       "      <th>10</th>\n",
       "      <td>Convenient location, clean and tidy with excel...</td>\n",
       "      <td>A little run down looking from the outside. Co...</td>\n",
       "      <td>8.0</td>\n",
       "      <td>Convenient location, clean and tidy with excel...</td>\n",
       "      <td>Positive</td>\n",
       "      <td>convenient location clean tidy excellent staff...</td>\n",
       "    </tr>\n",
       "  </tbody>\n",
       "</table>\n",
       "</div>"
      ],
      "text/plain": [
       "                                      Positive review  \\\n",
       "5    Everything was amazing staff room bar staff ð   \n",
       "7   Location is great. Room was very clean and com...   \n",
       "8   Spotless clean food was great and staff where ...   \n",
       "9     I really loved the room it was lovely and clean   \n",
       "10  Convenient location, clean and tidy with excel...   \n",
       "\n",
       "                                      Negative review  Review score  \\\n",
       "5                  Everything was great amazing time           10.0   \n",
       "7   Staff trying to come into our room with no rea...           8.0   \n",
       "8    Nothing got what you paid for couldn’t fault it           10.0   \n",
       "9                                I liked everything!!          10.0   \n",
       "10  A little run down looking from the outside. Co...           8.0   \n",
       "\n",
       "                                               Review Review Sentiment  \\\n",
       "5   Everything be amaze staff room bar staff ð ...         Positive   \n",
       "7   Location be great. Room be very clean and comf...         Positive   \n",
       "8   Spotless clean food be great and staff where v...         Positive   \n",
       "9   I really love the room it be lovely and clean ...         Positive   \n",
       "10  Convenient location, clean and tidy with excel...         Positive   \n",
       "\n",
       "                                               review  \n",
       "5   everything amaze staff room bar staff everythi...  \n",
       "7   location great room clean comfortable short st...  \n",
       "8   spotless clean food great staff welcome helpfu...  \n",
       "9       really love room lovely clean like everything  \n",
       "10  convenient location clean tidy excellent staff...  "
      ]
     },
     "execution_count": 24,
     "metadata": {},
     "output_type": "execute_result"
    }
   ],
   "source": [
    "data.head()"
   ]
  },
  {
   "cell_type": "code",
   "execution_count": 25,
   "metadata": {
    "executionInfo": {
     "elapsed": 5,
     "status": "ok",
     "timestamp": 1716691513281,
     "user": {
      "displayName": "Caio Oliveira",
      "userId": "01921506838875341927"
     },
     "user_tz": -60
    },
    "id": "mH8_BchZx_Qh"
   },
   "outputs": [],
   "source": [
    "data_model = data[['review', 'Review Sentiment']]"
   ]
  },
  {
   "cell_type": "code",
   "execution_count": 26,
   "metadata": {
    "colab": {
     "base_uri": "https://localhost:8080/",
     "height": 206
    },
    "executionInfo": {
     "elapsed": 4,
     "status": "ok",
     "timestamp": 1716691513281,
     "user": {
      "displayName": "Caio Oliveira",
      "userId": "01921506838875341927"
     },
     "user_tz": -60
    },
    "id": "wS-i1bHlsToT",
    "outputId": "978f6397-3654-47e5-b303-effe4926258c"
   },
   "outputs": [
    {
     "data": {
      "text/html": [
       "<div>\n",
       "<style scoped>\n",
       "    .dataframe tbody tr th:only-of-type {\n",
       "        vertical-align: middle;\n",
       "    }\n",
       "\n",
       "    .dataframe tbody tr th {\n",
       "        vertical-align: top;\n",
       "    }\n",
       "\n",
       "    .dataframe thead th {\n",
       "        text-align: right;\n",
       "    }\n",
       "</style>\n",
       "<table border=\"1\" class=\"dataframe\">\n",
       "  <thead>\n",
       "    <tr style=\"text-align: right;\">\n",
       "      <th></th>\n",
       "      <th>review</th>\n",
       "      <th>Review Sentiment</th>\n",
       "    </tr>\n",
       "  </thead>\n",
       "  <tbody>\n",
       "    <tr>\n",
       "      <th>5</th>\n",
       "      <td>everything amaze staff room bar staff everythi...</td>\n",
       "      <td>Positive</td>\n",
       "    </tr>\n",
       "    <tr>\n",
       "      <th>7</th>\n",
       "      <td>location great room clean comfortable short st...</td>\n",
       "      <td>Positive</td>\n",
       "    </tr>\n",
       "    <tr>\n",
       "      <th>8</th>\n",
       "      <td>spotless clean food great staff welcome helpfu...</td>\n",
       "      <td>Positive</td>\n",
       "    </tr>\n",
       "    <tr>\n",
       "      <th>9</th>\n",
       "      <td>really love room lovely clean like everything</td>\n",
       "      <td>Positive</td>\n",
       "    </tr>\n",
       "    <tr>\n",
       "      <th>10</th>\n",
       "      <td>convenient location clean tidy excellent staff...</td>\n",
       "      <td>Positive</td>\n",
       "    </tr>\n",
       "  </tbody>\n",
       "</table>\n",
       "</div>"
      ],
      "text/plain": [
       "                                               review Review Sentiment\n",
       "5   everything amaze staff room bar staff everythi...         Positive\n",
       "7   location great room clean comfortable short st...         Positive\n",
       "8   spotless clean food great staff welcome helpfu...         Positive\n",
       "9       really love room lovely clean like everything         Positive\n",
       "10  convenient location clean tidy excellent staff...         Positive"
      ]
     },
     "execution_count": 26,
     "metadata": {},
     "output_type": "execute_result"
    }
   ],
   "source": [
    "data_model.head()"
   ]
  },
  {
   "cell_type": "code",
   "execution_count": 27,
   "metadata": {},
   "outputs": [
    {
     "name": "stdout",
     "output_type": "stream",
     "text": [
      "<class 'pandas.core.frame.DataFrame'>\n",
      "Index: 1511 entries, 5 to 5284\n",
      "Data columns (total 2 columns):\n",
      " #   Column            Non-Null Count  Dtype \n",
      "---  ------            --------------  ----- \n",
      " 0   review            1511 non-null   object\n",
      " 1   Review Sentiment  1511 non-null   object\n",
      "dtypes: object(2)\n",
      "memory usage: 35.4+ KB\n"
     ]
    }
   ],
   "source": [
    "data_model.info()"
   ]
  },
  {
   "cell_type": "code",
   "execution_count": null,
   "metadata": {},
   "outputs": [],
   "source": []
  },
  {
   "cell_type": "code",
   "execution_count": 28,
   "metadata": {
    "colab": {
     "base_uri": "https://localhost:8080/",
     "height": 293
    },
    "executionInfo": {
     "elapsed": 11,
     "status": "ok",
     "timestamp": 1716691513744,
     "user": {
      "displayName": "Caio Oliveira",
      "userId": "01921506838875341927"
     },
     "user_tz": -60
    },
    "id": "5CXIy8FmrOdJ",
    "outputId": "a22360c0-d7eb-4b03-e4ac-2c98feb02ce2"
   },
   "outputs": [
    {
     "name": "stderr",
     "output_type": "stream",
     "text": [
      "C:\\Users\\35383\\AppData\\Local\\Temp\\ipykernel_4436\\2024612391.py:2: SettingWithCopyWarning: \n",
      "A value is trying to be set on a copy of a slice from a DataFrame\n",
      "\n",
      "See the caveats in the documentation: https://pandas.pydata.org/pandas-docs/stable/user_guide/indexing.html#returning-a-view-versus-a-copy\n",
      "  data_model.drop(['Review Sentiment'],axis=1,inplace=True)\n"
     ]
    },
    {
     "data": {
      "text/html": [
       "<div>\n",
       "<style scoped>\n",
       "    .dataframe tbody tr th:only-of-type {\n",
       "        vertical-align: middle;\n",
       "    }\n",
       "\n",
       "    .dataframe tbody tr th {\n",
       "        vertical-align: top;\n",
       "    }\n",
       "\n",
       "    .dataframe thead th {\n",
       "        text-align: right;\n",
       "    }\n",
       "</style>\n",
       "<table border=\"1\" class=\"dataframe\">\n",
       "  <thead>\n",
       "    <tr style=\"text-align: right;\">\n",
       "      <th></th>\n",
       "      <th>review</th>\n",
       "      <th>Negative</th>\n",
       "      <th>Neutral</th>\n",
       "      <th>Positive</th>\n",
       "    </tr>\n",
       "  </thead>\n",
       "  <tbody>\n",
       "    <tr>\n",
       "      <th>5</th>\n",
       "      <td>everything amaze staff room bar staff everythi...</td>\n",
       "      <td>False</td>\n",
       "      <td>False</td>\n",
       "      <td>True</td>\n",
       "    </tr>\n",
       "    <tr>\n",
       "      <th>7</th>\n",
       "      <td>location great room clean comfortable short st...</td>\n",
       "      <td>False</td>\n",
       "      <td>False</td>\n",
       "      <td>True</td>\n",
       "    </tr>\n",
       "    <tr>\n",
       "      <th>8</th>\n",
       "      <td>spotless clean food great staff welcome helpfu...</td>\n",
       "      <td>False</td>\n",
       "      <td>False</td>\n",
       "      <td>True</td>\n",
       "    </tr>\n",
       "    <tr>\n",
       "      <th>9</th>\n",
       "      <td>really love room lovely clean like everything</td>\n",
       "      <td>False</td>\n",
       "      <td>False</td>\n",
       "      <td>True</td>\n",
       "    </tr>\n",
       "    <tr>\n",
       "      <th>10</th>\n",
       "      <td>convenient location clean tidy excellent staff...</td>\n",
       "      <td>False</td>\n",
       "      <td>False</td>\n",
       "      <td>True</td>\n",
       "    </tr>\n",
       "  </tbody>\n",
       "</table>\n",
       "</div>"
      ],
      "text/plain": [
       "                                               review  Negative  Neutral  \\\n",
       "5   everything amaze staff room bar staff everythi...     False    False   \n",
       "7   location great room clean comfortable short st...     False    False   \n",
       "8   spotless clean food great staff welcome helpfu...     False    False   \n",
       "9       really love room lovely clean like everything     False    False   \n",
       "10  convenient location clean tidy excellent staff...     False    False   \n",
       "\n",
       "    Positive  \n",
       "5       True  \n",
       "7       True  \n",
       "8       True  \n",
       "9       True  \n",
       "10      True  "
      ]
     },
     "execution_count": 28,
     "metadata": {},
     "output_type": "execute_result"
    }
   ],
   "source": [
    "one_hot = pd.get_dummies(data_model[\"Review Sentiment\"])\n",
    "data_model.drop(['Review Sentiment'],axis=1,inplace=True)\n",
    "data_model = pd.concat([data_model,one_hot],axis=1)\n",
    "data_model.head()"
   ]
  },
  {
   "cell_type": "code",
   "execution_count": 29,
   "metadata": {
    "executionInfo": {
     "elapsed": 7,
     "status": "ok",
     "timestamp": 1716691513744,
     "user": {
      "displayName": "Caio Oliveira",
      "userId": "01921506838875341927"
     },
     "user_tz": -60
    },
    "id": "8Gbx_cE0rp1L"
   },
   "outputs": [],
   "source": [
    "X = data_model['review'].values\n",
    "y = data_model.drop('review', axis=1).values\n"
   ]
  },
  {
   "cell_type": "code",
   "execution_count": 30,
   "metadata": {},
   "outputs": [],
   "source": [
    "X_train, X_test, y_train, y_test = train_test_split(X, y, test_size=0.20, random_state=42)"
   ]
  },
  {
   "cell_type": "code",
   "execution_count": 31,
   "metadata": {
    "executionInfo": {
     "elapsed": 6,
     "status": "ok",
     "timestamp": 1716691513744,
     "user": {
      "displayName": "Caio Oliveira",
      "userId": "01921506838875341927"
     },
     "user_tz": -60
    },
    "id": "2esUvZkksv3s"
   },
   "outputs": [],
   "source": [
    "vect = CountVectorizer()\n",
    "X_train = vect.fit_transform(X_train)\n",
    "X_test = vect.transform(X_test)"
   ]
  },
  {
   "cell_type": "code",
   "execution_count": 32,
   "metadata": {
    "executionInfo": {
     "elapsed": 6,
     "status": "ok",
     "timestamp": 1716691513744,
     "user": {
      "displayName": "Caio Oliveira",
      "userId": "01921506838875341927"
     },
     "user_tz": -60
    },
    "id": "YEF552FQszgb"
   },
   "outputs": [],
   "source": [
    "tfidf = TfidfTransformer()\n",
    "X_train = tfidf.fit_transform(X_train)\n",
    "X_test = tfidf.transform(X_test)\n",
    "#X_train = X_train.toarray()\n",
    "#X_test = X_test.toarray()\n"
   ]
  },
  {
   "cell_type": "code",
   "execution_count": 33,
   "metadata": {},
   "outputs": [],
   "source": [
    "smote = SMOTE(random_state=42)\n",
    "X_resampled, y_resampled = smote.fit_resample(X_train, y_train)"
   ]
  },
  {
   "cell_type": "code",
   "execution_count": 43,
   "metadata": {},
   "outputs": [
    {
     "name": "stdout",
     "output_type": "stream",
     "text": [
      "Original dataset shape: Counter({2: 891, 1: 236, 0: 81})\n",
      "Resampled dataset shape: Counter({2: 891, 1: 891, 0: 891})\n"
     ]
    }
   ],
   "source": [
    "# Verify the distribution\n",
    "print(f\"Original dataset shape: {Counter(np.argmax(y_train, axis=1))}\")\n",
    "print(f\"Resampled dataset shape: {Counter(np.argmax(y_resampled, axis=1))}\")\n"
   ]
  },
  {
   "cell_type": "code",
   "execution_count": 37,
   "metadata": {},
   "outputs": [],
   "source": [
    "# Combine the resampled data into a DataFrame (Note: X_resampled needs to be converted to a dense format)\n",
    "data_balanced = pd.DataFrame(X_resampled.toarray(), columns=vect.get_feature_names_out())\n",
    "data_balanced = pd.concat([data_balanced, pd.DataFrame(y_resampled, columns=one_hot.columns)], axis=1)"
   ]
  },
  {
   "cell_type": "code",
   "execution_count": 81,
   "metadata": {
    "executionInfo": {
     "elapsed": 338,
     "status": "ok",
     "timestamp": 1716692120392,
     "user": {
      "displayName": "Caio Oliveira",
      "userId": "01921506838875341927"
     },
     "user_tz": -60
    },
    "id": "HCVXctoCs2xc"
   },
   "outputs": [],
   "source": [
    "model = Sequential()\n",
    "\n",
    "model.add(Dense(units=128, input_dim=X_resampled.shape[1], activation='relu'))\n",
    "model.add(Dropout(0.5))\n",
    "\n",
    "model.add(Dense(units=64,activation='relu'))\n",
    "model.add(Dropout(0.5))\n",
    "\n",
    "model.add(Dense(units=32,activation='relu'))\n",
    "model.add(Dropout(0.5))\n",
    "\n",
    "model.add(Dense(units=3, activation='softmax'))\n",
    "\n",
    "opt=tf.keras.optimizers.Adam(learning_rate=0.001)\n",
    "model.compile(loss='categorical_crossentropy', optimizer=opt, metrics=['accuracy'])\n",
    "\n",
    "early_stop = EarlyStopping(monitor='val_loss', mode='min', verbose=1, patience=3)"
   ]
  },
  {
   "cell_type": "code",
   "execution_count": 82,
   "metadata": {
    "colab": {
     "base_uri": "https://localhost:8080/",
     "height": 1000
    },
    "executionInfo": {
     "elapsed": 370865,
     "status": "error",
     "timestamp": 1716692493494,
     "user": {
      "displayName": "Caio Oliveira",
      "userId": "01921506838875341927"
     },
     "user_tz": -60
    },
    "id": "-jjWzdYjt-Lf",
    "outputId": "95e8145c-4b4a-43db-92ec-3824f5a74f24"
   },
   "outputs": [
    {
     "name": "stdout",
     "output_type": "stream",
     "text": [
      "Epoch 1/20\n",
      "\u001b[1m11/11\u001b[0m \u001b[32m━━━━━━━━━━━━━━━━━━━━\u001b[0m\u001b[37m\u001b[0m \u001b[1m3s\u001b[0m 55ms/step - accuracy: 0.3871 - loss: 1.0945 - val_accuracy: 0.7987 - val_loss: 1.0680\n",
      "Epoch 2/20\n",
      "\u001b[1m11/11\u001b[0m \u001b[32m━━━━━━━━━━━━━━━━━━━━\u001b[0m\u001b[37m\u001b[0m \u001b[1m0s\u001b[0m 16ms/step - accuracy: 0.5351 - loss: 1.0672 - val_accuracy: 0.8317 - val_loss: 0.9901\n",
      "Epoch 3/20\n",
      "\u001b[1m11/11\u001b[0m \u001b[32m━━━━━━━━━━━━━━━━━━━━\u001b[0m\u001b[37m\u001b[0m \u001b[1m0s\u001b[0m 15ms/step - accuracy: 0.6315 - loss: 1.0018 - val_accuracy: 0.8416 - val_loss: 0.8364\n",
      "Epoch 4/20\n",
      "\u001b[1m11/11\u001b[0m \u001b[32m━━━━━━━━━━━━━━━━━━━━\u001b[0m\u001b[37m\u001b[0m \u001b[1m0s\u001b[0m 17ms/step - accuracy: 0.7243 - loss: 0.8740 - val_accuracy: 0.8746 - val_loss: 0.6287\n",
      "Epoch 5/20\n",
      "\u001b[1m11/11\u001b[0m \u001b[32m━━━━━━━━━━━━━━━━━━━━\u001b[0m\u001b[37m\u001b[0m \u001b[1m0s\u001b[0m 16ms/step - accuracy: 0.8356 - loss: 0.6454 - val_accuracy: 0.8713 - val_loss: 0.4279\n",
      "Epoch 6/20\n",
      "\u001b[1m11/11\u001b[0m \u001b[32m━━━━━━━━━━━━━━━━━━━━\u001b[0m\u001b[37m\u001b[0m \u001b[1m0s\u001b[0m 18ms/step - accuracy: 0.8949 - loss: 0.4155 - val_accuracy: 0.8713 - val_loss: 0.3507\n",
      "Epoch 7/20\n",
      "\u001b[1m11/11\u001b[0m \u001b[32m━━━━━━━━━━━━━━━━━━━━\u001b[0m\u001b[37m\u001b[0m \u001b[1m0s\u001b[0m 19ms/step - accuracy: 0.9330 - loss: 0.2785 - val_accuracy: 0.8713 - val_loss: 0.3524\n",
      "Epoch 8/20\n",
      "\u001b[1m11/11\u001b[0m \u001b[32m━━━━━━━━━━━━━━━━━━━━\u001b[0m\u001b[37m\u001b[0m \u001b[1m0s\u001b[0m 17ms/step - accuracy: 0.9568 - loss: 0.1855 - val_accuracy: 0.8779 - val_loss: 0.3693\n",
      "Epoch 9/20\n",
      "\u001b[1m11/11\u001b[0m \u001b[32m━━━━━━━━━━━━━━━━━━━━\u001b[0m\u001b[37m\u001b[0m \u001b[1m0s\u001b[0m 16ms/step - accuracy: 0.9793 - loss: 0.1159 - val_accuracy: 0.8713 - val_loss: 0.4107\n",
      "Epoch 9: early stopping\n",
      "\u001b[1m10/10\u001b[0m \u001b[32m━━━━━━━━━━━━━━━━━━━━\u001b[0m\u001b[37m\u001b[0m \u001b[1m0s\u001b[0m 2ms/step - accuracy: 0.8600 - loss: 0.4482 \n",
      "Test Loss: 0.4107164442539215\n",
      "Test Accuracy: 0.8712871074676514\n"
     ]
    }
   ],
   "source": [
    "# Train the model with a different batch size and more epochs\n",
    "history = model.fit(X_resampled, y_resampled, validation_data=(X_test, y_test), epochs=20, batch_size=256, verbose=1, callbacks=[early_stop])\n",
    "\n",
    "# Evaluate the model\n",
    "loss, accuracy = model.evaluate(X_test, y_test, verbose=1)\n",
    "print(f\"Test Loss: {loss}\")\n",
    "print(f\"Test Accuracy: {accuracy}\")\n"
   ]
  },
  {
   "cell_type": "code",
   "execution_count": 65,
   "metadata": {},
   "outputs": [
    {
     "name": "stdout",
     "output_type": "stream",
     "text": [
      "\u001b[1m10/10\u001b[0m \u001b[32m━━━━━━━━━━━━━━━━━━━━\u001b[0m\u001b[37m\u001b[0m \u001b[1m0s\u001b[0m 13ms/step\n"
     ]
    }
   ],
   "source": [
    "# Predict the labels for the test set\n",
    "y_pred = model.predict(X_test)\n",
    "y_pred_classes = np.argmax(y_pred, axis=1)\n",
    "y_true = np.argmax(y_test, axis=1)\n"
   ]
  },
  {
   "cell_type": "code",
   "execution_count": 66,
   "metadata": {},
   "outputs": [
    {
     "data": {
      "image/png": "[encoded data removed]",
      "text/plain": [
       "<Figure size 800x600 with 2 Axes>"
      ]
     },
     "metadata": {},
     "output_type": "display_data"
    },
    {
     "name": "stdout",
     "output_type": "stream",
     "text": [
      "              precision    recall  f1-score   support\n",
      "\n",
      "    Negative       0.73      0.42      0.54        26\n",
      "     Neutral       0.81      0.75      0.78        56\n",
      "    Positive       0.89      0.95      0.92       221\n",
      "\n",
      "    accuracy                           0.87       303\n",
      "   macro avg       0.81      0.71      0.74       303\n",
      "weighted avg       0.86      0.87      0.86       303\n",
      "\n"
     ]
    }
   ],
   "source": [
    "# Generate the confusion matrix\n",
    "conf_matrix = confusion_matrix(y_true, y_pred_classes)\n",
    "\n",
    "# Plot the confusion matrix\n",
    "plt.figure(figsize=(8, 6))\n",
    "sns.heatmap(conf_matrix, annot=True, fmt='d', cmap='Blues', xticklabels=one_hot.columns, yticklabels=one_hot.columns)\n",
    "plt.ylabel('Actual')\n",
    "plt.xlabel('Predicted')\n",
    "plt.title('Confusion Matrix')\n",
    "plt.show()\n",
    "\n",
    "# Print classification report\n",
    "print(classification_report(y_true, y_pred_classes, target_names=one_hot.columns))"
   ]
  },
  {
   "cell_type": "code",
   "execution_count": null,
   "metadata": {},
   "outputs": [],
   "source": []
  },
  {
   "cell_type": "code",
   "execution_count": null,
   "metadata": {},
   "outputs": [],
   "source": []
  },
  {
   "cell_type": "code",
   "execution_count": null,
   "metadata": {},
   "outputs": [],
   "source": []
  }
 ],
 "metadata": {
  "colab": {
   "authorship_tag": "ABX9TyOmycDM2BzUb3eRb/mnza6i",
   "provenance": []
  },
  "kernelspec": {
   "display_name": "Python 3 (ipykernel)",
   "language": "python",
   "name": "python3"
  },
  "language_info": {
   "codemirror_mode": {
    "name": "ipython",
    "version": 3
   },
   "file_extension": ".py",
   "mimetype": "text/x-python",
   "name": "python",
   "nbconvert_exporter": "python",
   "pygments_lexer": "ipython3",
   "version": "3.11.7"
  }
 },
 "nbformat": 4,
 "nbformat_minor": 1
}
