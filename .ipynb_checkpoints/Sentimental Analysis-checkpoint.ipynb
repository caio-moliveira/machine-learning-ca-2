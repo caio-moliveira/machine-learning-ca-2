{
 "cells": [
  {
   "cell_type": "code",
   "execution_count": 1,
   "metadata": {
    "colab": {
     "base_uri": "https://localhost:8080/"
    },
    "executionInfo": {
     "elapsed": 6362,
     "status": "ok",
     "timestamp": 1716691490081,
     "user": {
      "displayName": "Caio Oliveira",
      "userId": "01921506838875341927"
     },
     "user_tz": -60
    },
    "id": "4UAFYfrTiEZO",
    "outputId": "772b1b27-279b-406f-e838-0e3ecb7dd0dd"
   },
   "outputs": [
    {
     "name": "stderr",
     "output_type": "stream",
     "text": [
      "[nltk_data] Downloading package stopwords to\n",
      "[nltk_data]     C:\\Users\\35383\\AppData\\Roaming\\nltk_data...\n",
      "[nltk_data]   Unzipping corpora\\stopwords.zip.\n"
     ]
    }
   ],
   "source": [
    "import pandas as pd\n",
    "import numpy as np\n",
    "import seaborn as sns\n",
    "import re\n",
    "import string\n",
    "from string import punctuation\n",
    "import nltk\n",
    "from nltk.corpus import stopwords\n",
    "nltk.download('stopwords')\n",
    "from imblearn.over_sampling import SMOTE\n",
    "\n",
    "\n",
    "import matplotlib.pyplot as plt\n",
    "from sklearn.model_selection import train_test_split\n",
    "from sklearn.feature_extraction.text import CountVectorizer\n",
    "from sklearn.feature_extraction.text import TfidfTransformer\n",
    "\n",
    "import tensorflow as tf\n",
    "from tensorflow.keras.models import Sequential\n",
    "from tensorflow.keras.layers import Dense, Activation, Dropout\n",
    "from tensorflow.keras.callbacks import EarlyStopping"
   ]
  },
  {
   "cell_type": "code",
   "execution_count": 2,
   "metadata": {
    "colab": {
     "base_uri": "https://localhost:8080/",
     "height": 73
    },
    "executionInfo": {
     "elapsed": 19620,
     "status": "ok",
     "timestamp": 1716691509696,
     "user": {
      "displayName": "Caio Oliveira",
      "userId": "01921506838875341927"
     },
     "user_tz": -60
    },
    "id": "mhGhyAn6iKSi",
    "outputId": "756c15e7-84e1-4581-b611-fb3d004d2a7f"
   },
   "outputs": [
    {
     "data": {
      "text/html": [
       "\n",
       "     <input type=\"file\" id=\"files-f8d59fdc-4ad5-4405-a23a-e095c1e5a6d4\" name=\"files[]\" multiple disabled\n",
       "        style=\"border:none\" />\n",
       "     <output id=\"result-f8d59fdc-4ad5-4405-a23a-e095c1e5a6d4\">\n",
       "      Upload widget is only available when the cell has been executed in the\n",
       "      current browser session. Please rerun this cell to enable.\n",
       "      </output>\n",
       "      <script>// Copyright 2017 Google LLC\n",
       "//\n",
       "// Licensed under the Apache License, Version 2.0 (the \"License\");\n",
       "// you may not use this file except in compliance with the License.\n",
       "// You may obtain a copy of the License at\n",
       "//\n",
       "//      http://www.apache.org/licenses/LICENSE-2.0\n",
       "//\n",
       "// Unless required by applicable law or agreed to in writing, software\n",
       "// distributed under the License is distributed on an \"AS IS\" BASIS,\n",
       "// WITHOUT WARRANTIES OR CONDITIONS OF ANY KIND, either express or implied.\n",
       "// See the License for the specific language governing permissions and\n",
       "// limitations under the License.\n",
       "\n",
       "/**\n",
       " * @fileoverview Helpers for google.colab Python module.\n",
       " */\n",
       "(function(scope) {\n",
       "function span(text, styleAttributes = {}) {\n",
       "  const element = document.createElement('span');\n",
       "  element.textContent = text;\n",
       "  for (const key of Object.keys(styleAttributes)) {\n",
       "    element.style[key] = styleAttributes[key];\n",
       "  }\n",
       "  return element;\n",
       "}\n",
       "\n",
       "// Max number of bytes which will be uploaded at a time.\n",
       "const MAX_PAYLOAD_SIZE = 100 * 1024;\n",
       "\n",
       "function _uploadFiles(inputId, outputId) {\n",
       "  const steps = uploadFilesStep(inputId, outputId);\n",
       "  const outputElement = document.getElementById(outputId);\n",
       "  // Cache steps on the outputElement to make it available for the next call\n",
       "  // to uploadFilesContinue from Python.\n",
       "  outputElement.steps = steps;\n",
       "\n",
       "  return _uploadFilesContinue(outputId);\n",
       "}\n",
       "\n",
       "// This is roughly an async generator (not supported in the browser yet),\n",
       "// where there are multiple asynchronous steps and the Python side is going\n",
       "// to poll for completion of each step.\n",
       "// This uses a Promise to block the python side on completion of each step,\n",
       "// then passes the result of the previous step as the input to the next step.\n",
       "function _uploadFilesContinue(outputId) {\n",
       "  const outputElement = document.getElementById(outputId);\n",
       "  const steps = outputElement.steps;\n",
       "\n",
       "  const next = steps.next(outputElement.lastPromiseValue);\n",
       "  return Promise.resolve(next.value.promise).then((value) => {\n",
       "    // Cache the last promise value to make it available to the next\n",
       "    // step of the generator.\n",
       "    outputElement.lastPromiseValue = value;\n",
       "    return next.value.response;\n",
       "  });\n",
       "}\n",
       "\n",
       "/**\n",
       " * Generator function which is called between each async step of the upload\n",
       " * process.\n",
       " * @param {string} inputId Element ID of the input file picker element.\n",
       " * @param {string} outputId Element ID of the output display.\n",
       " * @return {!Iterable<!Object>} Iterable of next steps.\n",
       " */\n",
       "function* uploadFilesStep(inputId, outputId) {\n",
       "  const inputElement = document.getElementById(inputId);\n",
       "  inputElement.disabled = false;\n",
       "\n",
       "  const outputElement = document.getElementById(outputId);\n",
       "  outputElement.innerHTML = '';\n",
       "\n",
       "  const pickedPromise = new Promise((resolve) => {\n",
       "    inputElement.addEventListener('change', (e) => {\n",
       "      resolve(e.target.files);\n",
       "    });\n",
       "  });\n",
       "\n",
       "  const cancel = document.createElement('button');\n",
       "  inputElement.parentElement.appendChild(cancel);\n",
       "  cancel.textContent = 'Cancel upload';\n",
       "  const cancelPromise = new Promise((resolve) => {\n",
       "    cancel.onclick = () => {\n",
       "      resolve(null);\n",
       "    };\n",
       "  });\n",
       "\n",
       "  // Wait for the user to pick the files.\n",
       "  const files = yield {\n",
       "    promise: Promise.race([pickedPromise, cancelPromise]),\n",
       "    response: {\n",
       "      action: 'starting',\n",
       "    }\n",
       "  };\n",
       "\n",
       "  cancel.remove();\n",
       "\n",
       "  // Disable the input element since further picks are not allowed.\n",
       "  inputElement.disabled = true;\n",
       "\n",
       "  if (!files) {\n",
       "    return {\n",
       "      response: {\n",
       "        action: 'complete',\n",
       "      }\n",
       "    };\n",
       "  }\n",
       "\n",
       "  for (const file of files) {\n",
       "    const li = document.createElement('li');\n",
       "    li.append(span(file.name, {fontWeight: 'bold'}));\n",
       "    li.append(span(\n",
       "        `(${file.type || 'n/a'}) - ${file.size} bytes, ` +\n",
       "        `last modified: ${\n",
       "            file.lastModifiedDate ? file.lastModifiedDate.toLocaleDateString() :\n",
       "                                    'n/a'} - `));\n",
       "    const percent = span('0% done');\n",
       "    li.appendChild(percent);\n",
       "\n",
       "    outputElement.appendChild(li);\n",
       "\n",
       "    const fileDataPromise = new Promise((resolve) => {\n",
       "      const reader = new FileReader();\n",
       "      reader.onload = (e) => {\n",
       "        resolve(e.target.result);\n",
       "      };\n",
       "      reader.readAsArrayBuffer(file);\n",
       "    });\n",
       "    // Wait for the data to be ready.\n",
       "    let fileData = yield {\n",
       "      promise: fileDataPromise,\n",
       "      response: {\n",
       "        action: 'continue',\n",
       "      }\n",
       "    };\n",
       "\n",
       "    // Use a chunked sending to avoid message size limits. See b/62115660.\n",
       "    let position = 0;\n",
       "    do {\n",
       "      const length = Math.min(fileData.byteLength - position, MAX_PAYLOAD_SIZE);\n",
       "      const chunk = new Uint8Array(fileData, position, length);\n",
       "      position += length;\n",
       "\n",
       "      const base64 = btoa(String.fromCharCode.apply(null, chunk));\n",
       "      yield {\n",
       "        response: {\n",
       "          action: 'append',\n",
       "          file: file.name,\n",
       "          data: base64,\n",
       "        },\n",
       "      };\n",
       "\n",
       "      let percentDone = fileData.byteLength === 0 ?\n",
       "          100 :\n",
       "          Math.round((position / fileData.byteLength) * 100);\n",
       "      percent.textContent = `${percentDone}% done`;\n",
       "\n",
       "    } while (position < fileData.byteLength);\n",
       "  }\n",
       "\n",
       "  // All done.\n",
       "  yield {\n",
       "    response: {\n",
       "      action: 'complete',\n",
       "    }\n",
       "  };\n",
       "}\n",
       "\n",
       "scope.google = scope.google || {};\n",
       "scope.google.colab = scope.google.colab || {};\n",
       "scope.google.colab._files = {\n",
       "  _uploadFiles,\n",
       "  _uploadFilesContinue,\n",
       "};\n",
       "})(self);\n",
       "</script> "
      ],
      "text/plain": [
       "<IPython.core.display.HTML object>"
      ]
     },
     "metadata": {},
     "output_type": "display_data"
    },
    {
     "name": "stdout",
     "output_type": "stream",
     "text": [
      "Saving reviews.csv to reviews (4).csv\n"
     ]
    }
   ],
   "source": [
    "# from google.colab import files\n",
    "\n",
    "# # Upload the file\n",
    "# uploaded = files.upload()\n",
    "\n",
    "# # Get the filename\n",
    "# filename = list(uploaded.keys())[0]\n",
    "\n",
    "# # Read the CSV file into a DataFrame\n",
    "# data = pd.read_csv(filename)\n"
   ]
  },
  {
   "cell_type": "code",
   "execution_count": 2,
   "metadata": {},
   "outputs": [],
   "source": [
    "file_path = 'reviews.csv'\n",
    "data = pd.read_csv(file_path)\n"
   ]
  },
  {
   "cell_type": "code",
   "execution_count": 3,
   "metadata": {
    "colab": {
     "base_uri": "https://localhost:8080/",
     "height": 310
    },
    "executionInfo": {
     "elapsed": 29,
     "status": "ok",
     "timestamp": 1716691509696,
     "user": {
      "displayName": "Caio Oliveira",
      "userId": "01921506838875341927"
     },
     "user_tz": -60
    },
    "id": "Zc32oKMJjJ7U",
    "outputId": "2192dae1-c3af-448b-f076-1be4ccaeb4cd"
   },
   "outputs": [
    {
     "data": {
      "text/html": [
       "<div>\n",
       "<style scoped>\n",
       "    .dataframe tbody tr th:only-of-type {\n",
       "        vertical-align: middle;\n",
       "    }\n",
       "\n",
       "    .dataframe tbody tr th {\n",
       "        vertical-align: top;\n",
       "    }\n",
       "\n",
       "    .dataframe thead th {\n",
       "        text-align: right;\n",
       "    }\n",
       "</style>\n",
       "<table border=\"1\" class=\"dataframe\">\n",
       "  <thead>\n",
       "    <tr style=\"text-align: right;\">\n",
       "      <th></th>\n",
       "      <th>Review date</th>\n",
       "      <th>Guest name</th>\n",
       "      <th>Reservation Number</th>\n",
       "      <th>Review title</th>\n",
       "      <th>Positive review</th>\n",
       "      <th>Negative review</th>\n",
       "      <th>Review score</th>\n",
       "      <th>Staff</th>\n",
       "      <th>Cleanliness</th>\n",
       "      <th>Location</th>\n",
       "      <th>Facilities</th>\n",
       "      <th>Comfort</th>\n",
       "      <th>Value for money</th>\n",
       "      <th>Property reply</th>\n",
       "    </tr>\n",
       "  </thead>\n",
       "  <tbody>\n",
       "    <tr>\n",
       "      <th>0</th>\n",
       "      <td>2021-05-26 13:52:54</td>\n",
       "      <td>Sarah</td>\n",
       "      <td>2.916039e+09</td>\n",
       "      <td>Great stay</td>\n",
       "      <td>Lovely staff, lovely clean hotel, great food</td>\n",
       "      <td>NaN</td>\n",
       "      <td>10.0</td>\n",
       "      <td>10.0</td>\n",
       "      <td>10.0</td>\n",
       "      <td>7.5</td>\n",
       "      <td>10.0</td>\n",
       "      <td>10.0</td>\n",
       "      <td>10.0</td>\n",
       "      <td>Thank you for taking the time to share your re...</td>\n",
       "    </tr>\n",
       "    <tr>\n",
       "      <th>1</th>\n",
       "      <td>2021-05-26 17:25:42</td>\n",
       "      <td>Diana</td>\n",
       "      <td>3.068738e+09</td>\n",
       "      <td>NaN</td>\n",
       "      <td>Location</td>\n",
       "      <td>NaN</td>\n",
       "      <td>9.0</td>\n",
       "      <td>10.0</td>\n",
       "      <td>7.5</td>\n",
       "      <td>10.0</td>\n",
       "      <td>10.0</td>\n",
       "      <td>10.0</td>\n",
       "      <td>10.0</td>\n",
       "      <td>Dear Diana,\\nThank you for the 9/10 rating.\\nI...</td>\n",
       "    </tr>\n",
       "    <tr>\n",
       "      <th>2</th>\n",
       "      <td>2021-05-27 13:25:33</td>\n",
       "      <td>ryane</td>\n",
       "      <td>2.505493e+09</td>\n",
       "      <td>Great hotel with helpful friendly staff.</td>\n",
       "      <td>NaN</td>\n",
       "      <td>NaN</td>\n",
       "      <td>10.0</td>\n",
       "      <td>10.0</td>\n",
       "      <td>10.0</td>\n",
       "      <td>10.0</td>\n",
       "      <td>10.0</td>\n",
       "      <td>10.0</td>\n",
       "      <td>10.0</td>\n",
       "      <td>NaN</td>\n",
       "    </tr>\n",
       "    <tr>\n",
       "      <th>3</th>\n",
       "      <td>2021-05-28 09:27:09</td>\n",
       "      <td>lorraine</td>\n",
       "      <td>3.332737e+09</td>\n",
       "      <td>NaN</td>\n",
       "      <td>The room was spotless and the food was fabulous.</td>\n",
       "      <td>NaN</td>\n",
       "      <td>9.0</td>\n",
       "      <td>10.0</td>\n",
       "      <td>7.5</td>\n",
       "      <td>10.0</td>\n",
       "      <td>10.0</td>\n",
       "      <td>10.0</td>\n",
       "      <td>10.0</td>\n",
       "      <td>Dear Lorraine,\\nThanks for the great review of...</td>\n",
       "    </tr>\n",
       "    <tr>\n",
       "      <th>4</th>\n",
       "      <td>2021-05-30 17:15:46</td>\n",
       "      <td>Mike</td>\n",
       "      <td>2.650766e+09</td>\n",
       "      <td>NaN</td>\n",
       "      <td>Great location, excellent food and friendly st...</td>\n",
       "      <td>NaN</td>\n",
       "      <td>10.0</td>\n",
       "      <td>10.0</td>\n",
       "      <td>10.0</td>\n",
       "      <td>10.0</td>\n",
       "      <td>7.5</td>\n",
       "      <td>10.0</td>\n",
       "      <td>10.0</td>\n",
       "      <td>Dear Mike, \\nThank you for the great review an...</td>\n",
       "    </tr>\n",
       "  </tbody>\n",
       "</table>\n",
       "</div>"
      ],
      "text/plain": [
       "           Review date Guest name  Reservation Number  \\\n",
       "0  2021-05-26 13:52:54      Sarah        2.916039e+09   \n",
       "1  2021-05-26 17:25:42      Diana        3.068738e+09   \n",
       "2  2021-05-27 13:25:33      ryane        2.505493e+09   \n",
       "3  2021-05-28 09:27:09   lorraine        3.332737e+09   \n",
       "4  2021-05-30 17:15:46       Mike        2.650766e+09   \n",
       "\n",
       "                               Review title  \\\n",
       "0                                Great stay   \n",
       "1                                       NaN   \n",
       "2  Great hotel with helpful friendly staff.   \n",
       "3                                       NaN   \n",
       "4                                       NaN   \n",
       "\n",
       "                                     Positive review Negative review  \\\n",
       "0       Lovely staff, lovely clean hotel, great food             NaN   \n",
       "1                                          Location              NaN   \n",
       "2                                                NaN             NaN   \n",
       "3  The room was spotless and the food was fabulous.              NaN   \n",
       "4  Great location, excellent food and friendly st...             NaN   \n",
       "\n",
       "   Review score  Staff  Cleanliness  Location  Facilities  Comfort  \\\n",
       "0          10.0   10.0         10.0       7.5        10.0     10.0   \n",
       "1           9.0   10.0          7.5      10.0        10.0     10.0   \n",
       "2          10.0   10.0         10.0      10.0        10.0     10.0   \n",
       "3           9.0   10.0          7.5      10.0        10.0     10.0   \n",
       "4          10.0   10.0         10.0      10.0         7.5     10.0   \n",
       "\n",
       "   Value for money                                     Property reply  \n",
       "0             10.0  Thank you for taking the time to share your re...  \n",
       "1             10.0  Dear Diana,\\nThank you for the 9/10 rating.\\nI...  \n",
       "2             10.0                                                NaN  \n",
       "3             10.0  Dear Lorraine,\\nThanks for the great review of...  \n",
       "4             10.0  Dear Mike, \\nThank you for the great review an...  "
      ]
     },
     "execution_count": 3,
     "metadata": {},
     "output_type": "execute_result"
    }
   ],
   "source": [
    "data.head()"
   ]
  },
  {
   "cell_type": "code",
   "execution_count": 4,
   "metadata": {
    "executionInfo": {
     "elapsed": 27,
     "status": "ok",
     "timestamp": 1716691509697,
     "user": {
      "displayName": "Caio Oliveira",
      "userId": "01921506838875341927"
     },
     "user_tz": -60
    },
    "id": "DZ0rBDN5i86v"
   },
   "outputs": [],
   "source": [
    "data = data.drop(['Review date', 'Guest name', 'Reservation Number','Review title','Staff','Cleanliness','Location','Facilities','Comfort','Value for money','Property reply' ], axis=1)\n",
    "data.dropna(inplace=True)"
   ]
  },
  {
   "cell_type": "code",
   "execution_count": 5,
   "metadata": {
    "executionInfo": {
     "elapsed": 26,
     "status": "ok",
     "timestamp": 1716691509697,
     "user": {
      "displayName": "Caio Oliveira",
      "userId": "01921506838875341927"
     },
     "user_tz": -60
    },
    "id": "wVkaPFtjiKVZ"
   },
   "outputs": [],
   "source": [
    "# Adapt the sentiment classification to the review scores in our dataset\n",
    "data['Sentiment'] = data['Review score'].apply(lambda x: 'Positive' if x > 6 else ('Neutral' if x == 5 else 'Negative'))\n"
   ]
  },
  {
   "cell_type": "code",
   "execution_count": 6,
   "metadata": {
    "colab": {
     "base_uri": "https://localhost:8080/",
     "height": 206
    },
    "executionInfo": {
     "elapsed": 26,
     "status": "ok",
     "timestamp": 1716691509697,
     "user": {
      "displayName": "Caio Oliveira",
      "userId": "01921506838875341927"
     },
     "user_tz": -60
    },
    "id": "dqs7aoO7jzwA",
    "outputId": "e58dd985-24cb-4db6-b608-0bdc351fa833"
   },
   "outputs": [
    {
     "data": {
      "text/html": [
       "<div>\n",
       "<style scoped>\n",
       "    .dataframe tbody tr th:only-of-type {\n",
       "        vertical-align: middle;\n",
       "    }\n",
       "\n",
       "    .dataframe tbody tr th {\n",
       "        vertical-align: top;\n",
       "    }\n",
       "\n",
       "    .dataframe thead th {\n",
       "        text-align: right;\n",
       "    }\n",
       "</style>\n",
       "<table border=\"1\" class=\"dataframe\">\n",
       "  <thead>\n",
       "    <tr style=\"text-align: right;\">\n",
       "      <th></th>\n",
       "      <th>Positive review</th>\n",
       "      <th>Negative review</th>\n",
       "      <th>Review score</th>\n",
       "      <th>Sentiment</th>\n",
       "    </tr>\n",
       "  </thead>\n",
       "  <tbody>\n",
       "    <tr>\n",
       "      <th>5</th>\n",
       "      <td>Everything was amazing staff room bar staff ð</td>\n",
       "      <td>Everything was great amazing time</td>\n",
       "      <td>10.0</td>\n",
       "      <td>Positive</td>\n",
       "    </tr>\n",
       "    <tr>\n",
       "      <th>7</th>\n",
       "      <td>Location is great. Room was very clean and com...</td>\n",
       "      <td>Staff trying to come into our room with no rea...</td>\n",
       "      <td>8.0</td>\n",
       "      <td>Positive</td>\n",
       "    </tr>\n",
       "    <tr>\n",
       "      <th>8</th>\n",
       "      <td>Spotless clean food was great and staff where ...</td>\n",
       "      <td>Nothing got what you paid for couldn’t fault it</td>\n",
       "      <td>10.0</td>\n",
       "      <td>Positive</td>\n",
       "    </tr>\n",
       "    <tr>\n",
       "      <th>9</th>\n",
       "      <td>I really loved the room it was lovely and clean</td>\n",
       "      <td>I liked everything!!</td>\n",
       "      <td>10.0</td>\n",
       "      <td>Positive</td>\n",
       "    </tr>\n",
       "    <tr>\n",
       "      <th>10</th>\n",
       "      <td>Convenient location, clean and tidy with excel...</td>\n",
       "      <td>A little run down looking from the outside. Co...</td>\n",
       "      <td>8.0</td>\n",
       "      <td>Positive</td>\n",
       "    </tr>\n",
       "  </tbody>\n",
       "</table>\n",
       "</div>"
      ],
      "text/plain": [
       "                                      Positive review  \\\n",
       "5    Everything was amazing staff room bar staff ð   \n",
       "7   Location is great. Room was very clean and com...   \n",
       "8   Spotless clean food was great and staff where ...   \n",
       "9     I really loved the room it was lovely and clean   \n",
       "10  Convenient location, clean and tidy with excel...   \n",
       "\n",
       "                                      Negative review  Review score Sentiment  \n",
       "5                  Everything was great amazing time           10.0  Positive  \n",
       "7   Staff trying to come into our room with no rea...           8.0  Positive  \n",
       "8    Nothing got what you paid for couldn’t fault it           10.0  Positive  \n",
       "9                                I liked everything!!          10.0  Positive  \n",
       "10  A little run down looking from the outside. Co...           8.0  Positive  "
      ]
     },
     "execution_count": 6,
     "metadata": {},
     "output_type": "execute_result"
    }
   ],
   "source": [
    "data.head()"
   ]
  },
  {
   "cell_type": "code",
   "execution_count": 22,
   "metadata": {
    "colab": {
     "base_uri": "https://localhost:8080/"
    },
    "executionInfo": {
     "elapsed": 24,
     "status": "ok",
     "timestamp": 1716691509697,
     "user": {
      "displayName": "Caio Oliveira",
      "userId": "01921506838875341927"
     },
     "user_tz": -60
    },
    "id": "94PI2ipBj0aU",
    "outputId": "a082a1f3-5f83-4c16-c6ca-1398c6d0ad00"
   },
   "outputs": [
    {
     "data": {
      "text/plain": [
       "Sentiment\n",
       "Positive    1361\n",
       "Neutral     1361\n",
       "Negative    1361\n",
       "Name: count, dtype: int64"
      ]
     },
     "execution_count": 22,
     "metadata": {},
     "output_type": "execute_result"
    }
   ],
   "source": [
    "data['Sentiment'].value_counts()"
   ]
  },
  {
   "cell_type": "code",
   "execution_count": 8,
   "metadata": {
    "colab": {
     "base_uri": "https://localhost:8080/",
     "height": 553
    },
    "executionInfo": {
     "elapsed": 1588,
     "status": "ok",
     "timestamp": 1716691511264,
     "user": {
      "displayName": "Caio Oliveira",
      "userId": "01921506838875341927"
     },
     "user_tz": -60
    },
    "id": "TSyW4eeZj3A0",
    "outputId": "d17bd5de-8c91-4c70-a626-8e954dd86d70"
   },
   "outputs": [
    {
     "name": "stderr",
     "output_type": "stream",
     "text": [
      "C:\\Users\\35383\\AppData\\Local\\Temp\\ipykernel_7664\\888952294.py:2: FutureWarning: \n",
      "\n",
      "Passing `palette` without assigning `hue` is deprecated and will be removed in v0.14.0. Assign the `x` variable to `hue` and set `legend=False` for the same effect.\n",
      "\n",
      "  sns.countplot(x='Review score',data=data, palette='YlGnBu_r')\n"
     ]
    },
    {
     "data": {
      "text/plain": [
       "<Axes: xlabel='Review score', ylabel='count'>"
      ]
     },
     "execution_count": 8,
     "metadata": {},
     "output_type": "execute_result"
    },
    {
     "data": {
      "image/png": "[encoded data removed]",
      "text/plain": [
       "<Figure size 640x480 with 1 Axes>"
      ]
     },
     "metadata": {},
     "output_type": "display_data"
    }
   ],
   "source": [
    "sns.set_style('whitegrid')\n",
    "sns.countplot(x='Review score',data=data, palette='YlGnBu_r')"
   ]
  },
  {
   "cell_type": "code",
   "execution_count": 9,
   "metadata": {
    "colab": {
     "base_uri": "https://localhost:8080/",
     "height": 553
    },
    "executionInfo": {
     "elapsed": 487,
     "status": "ok",
     "timestamp": 1716691511748,
     "user": {
      "displayName": "Caio Oliveira",
      "userId": "01921506838875341927"
     },
     "user_tz": -60
    },
    "id": "cuv5qj9okkDC",
    "outputId": "43f4727c-f838-438e-91ed-4a265e072736"
   },
   "outputs": [
    {
     "name": "stderr",
     "output_type": "stream",
     "text": [
      "C:\\Users\\35383\\AppData\\Local\\Temp\\ipykernel_7664\\2816265346.py:2: FutureWarning: \n",
      "\n",
      "Passing `palette` without assigning `hue` is deprecated and will be removed in v0.14.0. Assign the `x` variable to `hue` and set `legend=False` for the same effect.\n",
      "\n",
      "  sns.countplot(x='Sentiment',data=data, palette='summer')\n"
     ]
    },
    {
     "data": {
      "text/plain": [
       "<Axes: xlabel='Sentiment', ylabel='count'>"
      ]
     },
     "execution_count": 9,
     "metadata": {},
     "output_type": "execute_result"
    },
    {
     "data": {
      "image/png": "[encoded data removed]",
      "text/plain": [
       "<Figure size 640x480 with 1 Axes>"
      ]
     },
     "metadata": {},
     "output_type": "display_data"
    }
   ],
   "source": [
    "sns.set_style('whitegrid')\n",
    "sns.countplot(x='Sentiment',data=data, palette='summer')"
   ]
  },
  {
   "cell_type": "code",
   "execution_count": 14,
   "metadata": {
    "executionInfo": {
     "elapsed": 5,
     "status": "ok",
     "timestamp": 1716691511748,
     "user": {
      "displayName": "Caio Oliveira",
      "userId": "01921506838875341927"
     },
     "user_tz": -60
    },
    "id": "wUPLO0YZk48x"
   },
   "outputs": [],
   "source": [
    "# Combine the 'Positive review' and 'Negative review' columns into a single 'Review' column\n",
    "data['Review'] = data['Positive review'].fillna('') + ' ' + data['Negative review'].fillna('')"
   ]
  },
  {
   "cell_type": "markdown",
   "metadata": {
    "id": "OGKUtCnMlg9p"
   },
   "source": [
    "Data Processing"
   ]
  },
  {
   "cell_type": "code",
   "execution_count": 15,
   "metadata": {
    "executionInfo": {
     "elapsed": 5,
     "status": "ok",
     "timestamp": 1716691511749,
     "user": {
      "displayName": "Caio Oliveira",
      "userId": "01921506838875341927"
     },
     "user_tz": -60
    },
    "id": "UB7CTY5Xli1t"
   },
   "outputs": [],
   "source": [
    "df_Positive = data[data['Sentiment'] == 'Positive'][0:1361]\n",
    "df_Neutral = data[data['Sentiment'] == 'Neutral']\n",
    "df_Negative = data[data['Sentiment'] == 'Negative']"
   ]
  },
  {
   "cell_type": "code",
   "execution_count": 16,
   "metadata": {
    "executionInfo": {
     "elapsed": 5,
     "status": "ok",
     "timestamp": 1716691511749,
     "user": {
      "displayName": "Caio Oliveira",
      "userId": "01921506838875341927"
     },
     "user_tz": -60
    },
    "id": "n6XoZE9mlpb9"
   },
   "outputs": [],
   "source": [
    "df_Neutral_over = df_Neutral.sample(1361, replace=True)\n",
    "df_Negative_over = df_Negative.sample(1361, replace=True)\n",
    "data = pd.concat([df_Positive, df_Neutral_over, df_Negative_over], axis=0)"
   ]
  },
  {
   "cell_type": "code",
   "execution_count": 17,
   "metadata": {
    "executionInfo": {
     "elapsed": 5,
     "status": "ok",
     "timestamp": 1716691511749,
     "user": {
      "displayName": "Caio Oliveira",
      "userId": "01921506838875341927"
     },
     "user_tz": -60
    },
    "id": "Kx096Y4flv29"
   },
   "outputs": [],
   "source": [
    "def get_text_processing(text):\n",
    "    stpword = stopwords.words('english')\n",
    "    no_punctuation = [char for char in text if char not in string.punctuation]\n",
    "    no_punctuation = ''.join(no_punctuation)\n",
    "    return ' '.join([word for word in no_punctuation.split() if word.lower() not in stpword])"
   ]
  },
  {
   "cell_type": "code",
   "execution_count": 18,
   "metadata": {
    "executionInfo": {
     "elapsed": 1537,
     "status": "ok",
     "timestamp": 1716691513281,
     "user": {
      "displayName": "Caio Oliveira",
      "userId": "01921506838875341927"
     },
     "user_tz": -60
    },
    "id": "ULYMO_vwmAs7"
   },
   "outputs": [],
   "source": [
    "data['review'] = data['Review'].apply(get_text_processing)\n"
   ]
  },
  {
   "cell_type": "code",
   "execution_count": 19,
   "metadata": {
    "executionInfo": {
     "elapsed": 5,
     "status": "ok",
     "timestamp": 1716691513281,
     "user": {
      "displayName": "Caio Oliveira",
      "userId": "01921506838875341927"
     },
     "user_tz": -60
    },
    "id": "mH8_BchZx_Qh"
   },
   "outputs": [],
   "source": [
    "data_model = data[['review', 'Sentiment']]"
   ]
  },
  {
   "cell_type": "code",
   "execution_count": 20,
   "metadata": {
    "colab": {
     "base_uri": "https://localhost:8080/",
     "height": 206
    },
    "executionInfo": {
     "elapsed": 4,
     "status": "ok",
     "timestamp": 1716691513281,
     "user": {
      "displayName": "Caio Oliveira",
      "userId": "01921506838875341927"
     },
     "user_tz": -60
    },
    "id": "wS-i1bHlsToT",
    "outputId": "978f6397-3654-47e5-b303-effe4926258c"
   },
   "outputs": [
    {
     "data": {
      "text/html": [
       "<div>\n",
       "<style scoped>\n",
       "    .dataframe tbody tr th:only-of-type {\n",
       "        vertical-align: middle;\n",
       "    }\n",
       "\n",
       "    .dataframe tbody tr th {\n",
       "        vertical-align: top;\n",
       "    }\n",
       "\n",
       "    .dataframe thead th {\n",
       "        text-align: right;\n",
       "    }\n",
       "</style>\n",
       "<table border=\"1\" class=\"dataframe\">\n",
       "  <thead>\n",
       "    <tr style=\"text-align: right;\">\n",
       "      <th></th>\n",
       "      <th>review</th>\n",
       "      <th>Sentiment</th>\n",
       "    </tr>\n",
       "  </thead>\n",
       "  <tbody>\n",
       "    <tr>\n",
       "      <th>5</th>\n",
       "      <td>Everything amazing staff room bar staff ð E...</td>\n",
       "      <td>Positive</td>\n",
       "    </tr>\n",
       "    <tr>\n",
       "      <th>7</th>\n",
       "      <td>Location great Room clean comfortable short st...</td>\n",
       "      <td>Positive</td>\n",
       "    </tr>\n",
       "    <tr>\n",
       "      <th>8</th>\n",
       "      <td>Spotless clean food great staff welcoming help...</td>\n",
       "      <td>Positive</td>\n",
       "    </tr>\n",
       "    <tr>\n",
       "      <th>9</th>\n",
       "      <td>really loved room lovely clean liked everything</td>\n",
       "      <td>Positive</td>\n",
       "    </tr>\n",
       "    <tr>\n",
       "      <th>10</th>\n",
       "      <td>Convenient location clean tidy excellent staff...</td>\n",
       "      <td>Positive</td>\n",
       "    </tr>\n",
       "  </tbody>\n",
       "</table>\n",
       "</div>"
      ],
      "text/plain": [
       "                                               review Sentiment\n",
       "5   Everything amazing staff room bar staff ð E...  Positive\n",
       "7   Location great Room clean comfortable short st...  Positive\n",
       "8   Spotless clean food great staff welcoming help...  Positive\n",
       "9     really loved room lovely clean liked everything  Positive\n",
       "10  Convenient location clean tidy excellent staff...  Positive"
      ]
     },
     "execution_count": 20,
     "metadata": {},
     "output_type": "execute_result"
    }
   ],
   "source": [
    "data_model.head()"
   ]
  },
  {
   "cell_type": "code",
   "execution_count": 21,
   "metadata": {},
   "outputs": [
    {
     "name": "stdout",
     "output_type": "stream",
     "text": [
      "<class 'pandas.core.frame.DataFrame'>\n",
      "Index: 4083 entries, 5 to 1718\n",
      "Data columns (total 6 columns):\n",
      " #   Column           Non-Null Count  Dtype  \n",
      "---  ------           --------------  -----  \n",
      " 0   Positive review  4083 non-null   object \n",
      " 1   Negative review  4083 non-null   object \n",
      " 2   Review score     4083 non-null   float64\n",
      " 3   Sentiment        4083 non-null   object \n",
      " 4   Review           4083 non-null   object \n",
      " 5   review           4083 non-null   object \n",
      "dtypes: float64(1), object(5)\n",
      "memory usage: 223.3+ KB\n"
     ]
    }
   ],
   "source": [
    "data.info()"
   ]
  },
  {
   "cell_type": "code",
   "execution_count": 23,
   "metadata": {
    "colab": {
     "base_uri": "https://localhost:8080/",
     "height": 293
    },
    "executionInfo": {
     "elapsed": 11,
     "status": "ok",
     "timestamp": 1716691513744,
     "user": {
      "displayName": "Caio Oliveira",
      "userId": "01921506838875341927"
     },
     "user_tz": -60
    },
    "id": "5CXIy8FmrOdJ",
    "outputId": "a22360c0-d7eb-4b03-e4ac-2c98feb02ce2"
   },
   "outputs": [
    {
     "name": "stderr",
     "output_type": "stream",
     "text": [
      "C:\\Users\\35383\\AppData\\Local\\Temp\\ipykernel_7664\\2150902786.py:2: SettingWithCopyWarning: \n",
      "A value is trying to be set on a copy of a slice from a DataFrame\n",
      "\n",
      "See the caveats in the documentation: https://pandas.pydata.org/pandas-docs/stable/user_guide/indexing.html#returning-a-view-versus-a-copy\n",
      "  data_model.drop(['Sentiment'],axis=1,inplace=True)\n"
     ]
    },
    {
     "data": {
      "text/html": [
       "<div>\n",
       "<style scoped>\n",
       "    .dataframe tbody tr th:only-of-type {\n",
       "        vertical-align: middle;\n",
       "    }\n",
       "\n",
       "    .dataframe tbody tr th {\n",
       "        vertical-align: top;\n",
       "    }\n",
       "\n",
       "    .dataframe thead th {\n",
       "        text-align: right;\n",
       "    }\n",
       "</style>\n",
       "<table border=\"1\" class=\"dataframe\">\n",
       "  <thead>\n",
       "    <tr style=\"text-align: right;\">\n",
       "      <th></th>\n",
       "      <th>review</th>\n",
       "      <th>Negative</th>\n",
       "      <th>Neutral</th>\n",
       "      <th>Positive</th>\n",
       "    </tr>\n",
       "  </thead>\n",
       "  <tbody>\n",
       "    <tr>\n",
       "      <th>5</th>\n",
       "      <td>Everything amazing staff room bar staff ð E...</td>\n",
       "      <td>False</td>\n",
       "      <td>False</td>\n",
       "      <td>True</td>\n",
       "    </tr>\n",
       "    <tr>\n",
       "      <th>7</th>\n",
       "      <td>Location great Room clean comfortable short st...</td>\n",
       "      <td>False</td>\n",
       "      <td>False</td>\n",
       "      <td>True</td>\n",
       "    </tr>\n",
       "    <tr>\n",
       "      <th>8</th>\n",
       "      <td>Spotless clean food great staff welcoming help...</td>\n",
       "      <td>False</td>\n",
       "      <td>False</td>\n",
       "      <td>True</td>\n",
       "    </tr>\n",
       "    <tr>\n",
       "      <th>9</th>\n",
       "      <td>really loved room lovely clean liked everything</td>\n",
       "      <td>False</td>\n",
       "      <td>False</td>\n",
       "      <td>True</td>\n",
       "    </tr>\n",
       "    <tr>\n",
       "      <th>10</th>\n",
       "      <td>Convenient location clean tidy excellent staff...</td>\n",
       "      <td>False</td>\n",
       "      <td>False</td>\n",
       "      <td>True</td>\n",
       "    </tr>\n",
       "  </tbody>\n",
       "</table>\n",
       "</div>"
      ],
      "text/plain": [
       "                                               review  Negative  Neutral  \\\n",
       "5   Everything amazing staff room bar staff ð E...     False    False   \n",
       "7   Location great Room clean comfortable short st...     False    False   \n",
       "8   Spotless clean food great staff welcoming help...     False    False   \n",
       "9     really loved room lovely clean liked everything     False    False   \n",
       "10  Convenient location clean tidy excellent staff...     False    False   \n",
       "\n",
       "    Positive  \n",
       "5       True  \n",
       "7       True  \n",
       "8       True  \n",
       "9       True  \n",
       "10      True  "
      ]
     },
     "execution_count": 23,
     "metadata": {},
     "output_type": "execute_result"
    }
   ],
   "source": [
    "one_hot = pd.get_dummies(data_model[\"Sentiment\"])\n",
    "data_model.drop(['Sentiment'],axis=1,inplace=True)\n",
    "data_model = pd.concat([data_model,one_hot],axis=1)\n",
    "data_model.head()"
   ]
  },
  {
   "cell_type": "code",
   "execution_count": 24,
   "metadata": {
    "executionInfo": {
     "elapsed": 7,
     "status": "ok",
     "timestamp": 1716691513744,
     "user": {
      "displayName": "Caio Oliveira",
      "userId": "01921506838875341927"
     },
     "user_tz": -60
    },
    "id": "8Gbx_cE0rp1L"
   },
   "outputs": [],
   "source": [
    "X = data_model['review'].values\n",
    "y = data_model.drop('review', axis=1).values\n",
    "X_train, X_test, y_train, y_test = train_test_split(X, y, test_size=0.20, random_state=42)"
   ]
  },
  {
   "cell_type": "code",
   "execution_count": 25,
   "metadata": {
    "executionInfo": {
     "elapsed": 6,
     "status": "ok",
     "timestamp": 1716691513744,
     "user": {
      "displayName": "Caio Oliveira",
      "userId": "01921506838875341927"
     },
     "user_tz": -60
    },
    "id": "2esUvZkksv3s"
   },
   "outputs": [],
   "source": [
    "vect = CountVectorizer()\n",
    "X_train = vect.fit_transform(X_train)\n",
    "X_test = vect.transform(X_test)"
   ]
  },
  {
   "cell_type": "code",
   "execution_count": 26,
   "metadata": {
    "executionInfo": {
     "elapsed": 6,
     "status": "ok",
     "timestamp": 1716691513744,
     "user": {
      "displayName": "Caio Oliveira",
      "userId": "01921506838875341927"
     },
     "user_tz": -60
    },
    "id": "YEF552FQszgb"
   },
   "outputs": [],
   "source": [
    "tfidf = TfidfTransformer()\n",
    "X_train = tfidf.fit_transform(X_train)\n",
    "X_test = tfidf.transform(X_test)\n",
    "X_train = X_train.toarray()\n",
    "X_test = X_test.toarray()\n"
   ]
  },
  {
   "cell_type": "code",
   "execution_count": 27,
   "metadata": {
    "executionInfo": {
     "elapsed": 338,
     "status": "ok",
     "timestamp": 1716692120392,
     "user": {
      "displayName": "Caio Oliveira",
      "userId": "01921506838875341927"
     },
     "user_tz": -60
    },
    "id": "HCVXctoCs2xc"
   },
   "outputs": [],
   "source": [
    "model = Sequential()\n",
    "\n",
    "model.add(Dense(units=1500,activation='relu'))\n",
    "model.add(Dropout(0.5))\n",
    "\n",
    "model.add(Dense(units=700,activation='relu'))\n",
    "model.add(Dropout(0.5))\n",
    "\n",
    "model.add(Dense(units=350,activation='relu'))\n",
    "model.add(Dropout(0.5))\n",
    "\n",
    "model.add(Dense(units=3, activation='softmax'))\n",
    "\n",
    "opt=tf.keras.optimizers.Adam(learning_rate=0.001)\n",
    "model.compile(loss='categorical_crossentropy', optimizer=opt, metrics=['accuracy'])\n",
    "\n",
    "early_stop = EarlyStopping(monitor='val_loss', mode='min', verbose=1, patience=2)"
   ]
  },
  {
   "cell_type": "code",
   "execution_count": 28,
   "metadata": {
    "colab": {
     "base_uri": "https://localhost:8080/",
     "height": 1000
    },
    "executionInfo": {
     "elapsed": 370865,
     "status": "error",
     "timestamp": 1716692493494,
     "user": {
      "displayName": "Caio Oliveira",
      "userId": "01921506838875341927"
     },
     "user_tz": -60
    },
    "id": "-jjWzdYjt-Lf",
    "outputId": "95e8145c-4b4a-43db-92ec-3824f5a74f24"
   },
   "outputs": [
    {
     "name": "stdout",
     "output_type": "stream",
     "text": [
      "Epoch 1/100\n",
      "\u001b[1m52/52\u001b[0m \u001b[32m━━━━━━━━━━━━━━━━━━━━\u001b[0m\u001b[37m\u001b[0m \u001b[1m7s\u001b[0m 88ms/step - accuracy: 0.5736 - loss: 0.8454 - val_accuracy: 0.9865 - val_loss: 0.0357\n",
      "Epoch 2/100\n",
      "\u001b[1m52/52\u001b[0m \u001b[32m━━━━━━━━━━━━━━━━━━━━\u001b[0m\u001b[37m\u001b[0m \u001b[1m4s\u001b[0m 84ms/step - accuracy: 0.9955 - loss: 0.0153 - val_accuracy: 0.9963 - val_loss: 0.0051\n",
      "Epoch 3/100\n",
      "\u001b[1m52/52\u001b[0m \u001b[32m━━━━━━━━━━━━━━━━━━━━\u001b[0m\u001b[37m\u001b[0m \u001b[1m4s\u001b[0m 84ms/step - accuracy: 1.0000 - loss: 0.0014 - val_accuracy: 0.9939 - val_loss: 0.0105\n",
      "Epoch 4/100\n",
      "\u001b[1m52/52\u001b[0m \u001b[32m━━━━━━━━━━━━━━━━━━━━\u001b[0m\u001b[37m\u001b[0m \u001b[1m5s\u001b[0m 88ms/step - accuracy: 0.9990 - loss: 0.0018 - val_accuracy: 0.9976 - val_loss: 0.0046\n",
      "Epoch 5/100\n",
      "\u001b[1m52/52\u001b[0m \u001b[32m━━━━━━━━━━━━━━━━━━━━\u001b[0m\u001b[37m\u001b[0m \u001b[1m4s\u001b[0m 86ms/step - accuracy: 1.0000 - loss: 2.0131e-04 - val_accuracy: 0.9963 - val_loss: 0.0109\n",
      "Epoch 6/100\n",
      "\u001b[1m52/52\u001b[0m \u001b[32m━━━━━━━━━━━━━━━━━━━━\u001b[0m\u001b[37m\u001b[0m \u001b[1m5s\u001b[0m 105ms/step - accuracy: 1.0000 - loss: 1.6418e-04 - val_accuracy: 0.9963 - val_loss: 0.0099\n",
      "Epoch 7/100\n",
      "\u001b[1m52/52\u001b[0m \u001b[32m━━━━━━━━━━━━━━━━━━━━\u001b[0m\u001b[37m\u001b[0m \u001b[1m6s\u001b[0m 109ms/step - accuracy: 1.0000 - loss: 8.8609e-05 - val_accuracy: 0.9951 - val_loss: 0.0111\n",
      "Epoch 8/100\n",
      "\u001b[1m52/52\u001b[0m \u001b[32m━━━━━━━━━━━━━━━━━━━━\u001b[0m\u001b[37m\u001b[0m \u001b[1m6s\u001b[0m 120ms/step - accuracy: 1.0000 - loss: 5.4049e-05 - val_accuracy: 0.9963 - val_loss: 0.0108\n",
      "Epoch 9/100\n",
      "\u001b[1m52/52\u001b[0m \u001b[32m━━━━━━━━━━━━━━━━━━━━\u001b[0m\u001b[37m\u001b[0m \u001b[1m6s\u001b[0m 119ms/step - accuracy: 1.0000 - loss: 4.8571e-05 - val_accuracy: 0.9963 - val_loss: 0.0102\n",
      "Epoch 10/100\n",
      "\u001b[1m52/52\u001b[0m \u001b[32m━━━━━━━━━━━━━━━━━━━━\u001b[0m\u001b[37m\u001b[0m \u001b[1m6s\u001b[0m 104ms/step - accuracy: 1.0000 - loss: 3.0273e-05 - val_accuracy: 0.9963 - val_loss: 0.0098\n",
      "Epoch 11/100\n",
      "\u001b[1m52/52\u001b[0m \u001b[32m━━━━━━━━━━━━━━━━━━━━\u001b[0m\u001b[37m\u001b[0m \u001b[1m5s\u001b[0m 92ms/step - accuracy: 1.0000 - loss: 2.9259e-05 - val_accuracy: 0.9963 - val_loss: 0.0098\n",
      "Epoch 12/100\n",
      "\u001b[1m52/52\u001b[0m \u001b[32m━━━━━━━━━━━━━━━━━━━━\u001b[0m\u001b[37m\u001b[0m \u001b[1m5s\u001b[0m 95ms/step - accuracy: 1.0000 - loss: 3.9849e-05 - val_accuracy: 0.9963 - val_loss: 0.0118\n",
      "Epoch 13/100\n",
      "\u001b[1m52/52\u001b[0m \u001b[32m━━━━━━━━━━━━━━━━━━━━\u001b[0m\u001b[37m\u001b[0m \u001b[1m5s\u001b[0m 95ms/step - accuracy: 1.0000 - loss: 4.9630e-05 - val_accuracy: 0.9963 - val_loss: 0.0106\n",
      "Epoch 14/100\n",
      "\u001b[1m52/52\u001b[0m \u001b[32m━━━━━━━━━━━━━━━━━━━━\u001b[0m\u001b[37m\u001b[0m \u001b[1m5s\u001b[0m 99ms/step - accuracy: 1.0000 - loss: 2.0343e-05 - val_accuracy: 0.9963 - val_loss: 0.0115\n",
      "Epoch 15/100\n",
      "\u001b[1m52/52\u001b[0m \u001b[32m━━━━━━━━━━━━━━━━━━━━\u001b[0m\u001b[37m\u001b[0m \u001b[1m5s\u001b[0m 103ms/step - accuracy: 1.0000 - loss: 1.6847e-05 - val_accuracy: 0.9963 - val_loss: 0.0140\n",
      "Epoch 16/100\n",
      "\u001b[1m52/52\u001b[0m \u001b[32m━━━━━━━━━━━━━━━━━━━━\u001b[0m\u001b[37m\u001b[0m \u001b[1m6s\u001b[0m 112ms/step - accuracy: 1.0000 - loss: 3.7044e-05 - val_accuracy: 0.9951 - val_loss: 0.0135\n",
      "Epoch 17/100\n",
      "\u001b[1m52/52\u001b[0m \u001b[32m━━━━━━━━━━━━━━━━━━━━\u001b[0m\u001b[37m\u001b[0m \u001b[1m6s\u001b[0m 111ms/step - accuracy: 1.0000 - loss: 1.0996e-05 - val_accuracy: 0.9951 - val_loss: 0.0135\n",
      "Epoch 18/100\n",
      "\u001b[1m52/52\u001b[0m \u001b[32m━━━━━━━━━━━━━━━━━━━━\u001b[0m\u001b[37m\u001b[0m \u001b[1m6s\u001b[0m 113ms/step - accuracy: 1.0000 - loss: 1.5239e-05 - val_accuracy: 0.9951 - val_loss: 0.0133\n",
      "Epoch 19/100\n",
      "\u001b[1m52/52\u001b[0m \u001b[32m━━━━━━━━━━━━━━━━━━━━\u001b[0m\u001b[37m\u001b[0m \u001b[1m6s\u001b[0m 114ms/step - accuracy: 1.0000 - loss: 1.2096e-05 - val_accuracy: 0.9951 - val_loss: 0.0132\n",
      "Epoch 20/100\n",
      "\u001b[1m52/52\u001b[0m \u001b[32m━━━━━━━━━━━━━━━━━━━━\u001b[0m\u001b[37m\u001b[0m \u001b[1m6s\u001b[0m 114ms/step - accuracy: 1.0000 - loss: 1.0409e-05 - val_accuracy: 0.9963 - val_loss: 0.0128\n",
      "Epoch 21/100\n",
      "\u001b[1m52/52\u001b[0m \u001b[32m━━━━━━━━━━━━━━━━━━━━\u001b[0m\u001b[37m\u001b[0m \u001b[1m7s\u001b[0m 130ms/step - accuracy: 1.0000 - loss: 2.3520e-05 - val_accuracy: 0.9951 - val_loss: 0.0126\n",
      "Epoch 22/100\n",
      "\u001b[1m52/52\u001b[0m \u001b[32m━━━━━━━━━━━━━━━━━━━━\u001b[0m\u001b[37m\u001b[0m \u001b[1m7s\u001b[0m 125ms/step - accuracy: 1.0000 - loss: 7.4122e-06 - val_accuracy: 0.9951 - val_loss: 0.0127\n",
      "Epoch 23/100\n",
      "\u001b[1m52/52\u001b[0m \u001b[32m━━━━━━━━━━━━━━━━━━━━\u001b[0m\u001b[37m\u001b[0m \u001b[1m6s\u001b[0m 115ms/step - accuracy: 1.0000 - loss: 8.7563e-06 - val_accuracy: 0.9951 - val_loss: 0.0136\n",
      "Epoch 24/100\n",
      "\u001b[1m52/52\u001b[0m \u001b[32m━━━━━━━━━━━━━━━━━━━━\u001b[0m\u001b[37m\u001b[0m \u001b[1m6s\u001b[0m 107ms/step - accuracy: 1.0000 - loss: 8.2148e-06 - val_accuracy: 0.9951 - val_loss: 0.0144\n",
      "Epoch 25/100\n",
      "\u001b[1m52/52\u001b[0m \u001b[32m━━━━━━━━━━━━━━━━━━━━\u001b[0m\u001b[37m\u001b[0m \u001b[1m5s\u001b[0m 100ms/step - accuracy: 1.0000 - loss: 2.3183e-05 - val_accuracy: 0.9951 - val_loss: 0.0128\n",
      "Epoch 26/100\n",
      "\u001b[1m52/52\u001b[0m \u001b[32m━━━━━━━━━━━━━━━━━━━━\u001b[0m\u001b[37m\u001b[0m \u001b[1m6s\u001b[0m 108ms/step - accuracy: 1.0000 - loss: 6.7583e-06 - val_accuracy: 0.9951 - val_loss: 0.0125\n",
      "Epoch 27/100\n",
      "\u001b[1m52/52\u001b[0m \u001b[32m━━━━━━━━━━━━━━━━━━━━\u001b[0m\u001b[37m\u001b[0m \u001b[1m5s\u001b[0m 104ms/step - accuracy: 1.0000 - loss: 5.2675e-06 - val_accuracy: 0.9951 - val_loss: 0.0126\n",
      "Epoch 28/100\n",
      "\u001b[1m52/52\u001b[0m \u001b[32m━━━━━━━━━━━━━━━━━━━━\u001b[0m\u001b[37m\u001b[0m \u001b[1m6s\u001b[0m 117ms/step - accuracy: 1.0000 - loss: 7.9289e-06 - val_accuracy: 0.9951 - val_loss: 0.0126\n",
      "Epoch 29/100\n",
      "\u001b[1m52/52\u001b[0m \u001b[32m━━━━━━━━━━━━━━━━━━━━\u001b[0m\u001b[37m\u001b[0m \u001b[1m7s\u001b[0m 126ms/step - accuracy: 1.0000 - loss: 6.0466e-06 - val_accuracy: 0.9951 - val_loss: 0.0128\n",
      "Epoch 30/100\n",
      "\u001b[1m52/52\u001b[0m \u001b[32m━━━━━━━━━━━━━━━━━━━━\u001b[0m\u001b[37m\u001b[0m \u001b[1m7s\u001b[0m 133ms/step - accuracy: 1.0000 - loss: 8.6631e-06 - val_accuracy: 0.9951 - val_loss: 0.0122\n",
      "Epoch 31/100\n",
      "\u001b[1m52/52\u001b[0m \u001b[32m━━━━━━━━━━━━━━━━━━━━\u001b[0m\u001b[37m\u001b[0m \u001b[1m8s\u001b[0m 147ms/step - accuracy: 1.0000 - loss: 5.2371e-06 - val_accuracy: 0.9951 - val_loss: 0.0118\n",
      "Epoch 32/100\n",
      "\u001b[1m52/52\u001b[0m \u001b[32m━━━━━━━━━━━━━━━━━━━━\u001b[0m\u001b[37m\u001b[0m \u001b[1m10s\u001b[0m 141ms/step - accuracy: 1.0000 - loss: 6.5915e-06 - val_accuracy: 0.9951 - val_loss: 0.0126\n",
      "Epoch 33/100\n",
      "\u001b[1m52/52\u001b[0m \u001b[32m━━━━━━━━━━━━━━━━━━━━\u001b[0m\u001b[37m\u001b[0m \u001b[1m7s\u001b[0m 134ms/step - accuracy: 1.0000 - loss: 3.4196e-06 - val_accuracy: 0.9951 - val_loss: 0.0121\n",
      "Epoch 34/100\n",
      "\u001b[1m52/52\u001b[0m \u001b[32m━━━━━━━━━━━━━━━━━━━━\u001b[0m\u001b[37m\u001b[0m \u001b[1m6s\u001b[0m 122ms/step - accuracy: 1.0000 - loss: 2.8997e-06 - val_accuracy: 0.9951 - val_loss: 0.0123\n",
      "Epoch 35/100\n",
      "\u001b[1m52/52\u001b[0m \u001b[32m━━━━━━━━━━━━━━━━━━━━\u001b[0m\u001b[37m\u001b[0m \u001b[1m8s\u001b[0m 152ms/step - accuracy: 1.0000 - loss: 4.4661e-06 - val_accuracy: 0.9951 - val_loss: 0.0129\n",
      "Epoch 36/100\n",
      "\u001b[1m52/52\u001b[0m \u001b[32m━━━━━━━━━━━━━━━━━━━━\u001b[0m\u001b[37m\u001b[0m \u001b[1m7s\u001b[0m 134ms/step - accuracy: 1.0000 - loss: 3.3711e-06 - val_accuracy: 0.9951 - val_loss: 0.0135\n",
      "Epoch 37/100\n",
      "\u001b[1m52/52\u001b[0m \u001b[32m━━━━━━━━━━━━━━━━━━━━\u001b[0m\u001b[37m\u001b[0m \u001b[1m6s\u001b[0m 123ms/step - accuracy: 1.0000 - loss: 3.4171e-06 - val_accuracy: 0.9951 - val_loss: 0.0140\n",
      "Epoch 38/100\n",
      "\u001b[1m52/52\u001b[0m \u001b[32m━━━━━━━━━━━━━━━━━━━━\u001b[0m\u001b[37m\u001b[0m \u001b[1m7s\u001b[0m 140ms/step - accuracy: 1.0000 - loss: 3.4954e-06 - val_accuracy: 0.9951 - val_loss: 0.0147\n",
      "Epoch 39/100\n",
      "\u001b[1m52/52\u001b[0m \u001b[32m━━━━━━━━━━━━━━━━━━━━\u001b[0m\u001b[37m\u001b[0m \u001b[1m7s\u001b[0m 131ms/step - accuracy: 1.0000 - loss: 3.0217e-06 - val_accuracy: 0.9951 - val_loss: 0.0147\n",
      "Epoch 40/100\n",
      "\u001b[1m52/52\u001b[0m \u001b[32m━━━━━━━━━━━━━━━━━━━━\u001b[0m\u001b[37m\u001b[0m \u001b[1m8s\u001b[0m 144ms/step - accuracy: 1.0000 - loss: 2.9373e-06 - val_accuracy: 0.9951 - val_loss: 0.0146\n",
      "Epoch 41/100\n",
      "\u001b[1m52/52\u001b[0m \u001b[32m━━━━━━━━━━━━━━━━━━━━\u001b[0m\u001b[37m\u001b[0m \u001b[1m8s\u001b[0m 142ms/step - accuracy: 1.0000 - loss: 2.7048e-06 - val_accuracy: 0.9951 - val_loss: 0.0141\n",
      "Epoch 42/100\n",
      "\u001b[1m52/52\u001b[0m \u001b[32m━━━━━━━━━━━━━━━━━━━━\u001b[0m\u001b[37m\u001b[0m \u001b[1m7s\u001b[0m 132ms/step - accuracy: 1.0000 - loss: 2.3994e-06 - val_accuracy: 0.9951 - val_loss: 0.0142\n",
      "Epoch 43/100\n",
      "\u001b[1m52/52\u001b[0m \u001b[32m━━━━━━━━━━━━━━━━━━━━\u001b[0m\u001b[37m\u001b[0m \u001b[1m7s\u001b[0m 139ms/step - accuracy: 1.0000 - loss: 1.7210e-06 - val_accuracy: 0.9951 - val_loss: 0.0144\n",
      "Epoch 44/100\n",
      "\u001b[1m52/52\u001b[0m \u001b[32m━━━━━━━━━━━━━━━━━━━━\u001b[0m\u001b[37m\u001b[0m \u001b[1m8s\u001b[0m 143ms/step - accuracy: 1.0000 - loss: 3.1451e-06 - val_accuracy: 0.9951 - val_loss: 0.0137\n",
      "Epoch 45/100\n",
      "\u001b[1m52/52\u001b[0m \u001b[32m━━━━━━━━━━━━━━━━━━━━\u001b[0m\u001b[37m\u001b[0m \u001b[1m7s\u001b[0m 138ms/step - accuracy: 1.0000 - loss: 1.9822e-06 - val_accuracy: 0.9951 - val_loss: 0.0133\n",
      "Epoch 46/100\n",
      "\u001b[1m52/52\u001b[0m \u001b[32m━━━━━━━━━━━━━━━━━━━━\u001b[0m\u001b[37m\u001b[0m \u001b[1m8s\u001b[0m 145ms/step - accuracy: 1.0000 - loss: 2.5255e-06 - val_accuracy: 0.9951 - val_loss: 0.0124\n",
      "Epoch 47/100\n",
      "\u001b[1m52/52\u001b[0m \u001b[32m━━━━━━━━━━━━━━━━━━━━\u001b[0m\u001b[37m\u001b[0m \u001b[1m8s\u001b[0m 146ms/step - accuracy: 1.0000 - loss: 3.5593e-06 - val_accuracy: 0.9951 - val_loss: 0.0130\n",
      "Epoch 48/100\n",
      "\u001b[1m52/52\u001b[0m \u001b[32m━━━━━━━━━━━━━━━━━━━━\u001b[0m\u001b[37m\u001b[0m \u001b[1m8s\u001b[0m 145ms/step - accuracy: 1.0000 - loss: 2.0344e-06 - val_accuracy: 0.9951 - val_loss: 0.0131\n",
      "Epoch 49/100\n",
      "\u001b[1m52/52\u001b[0m \u001b[32m━━━━━━━━━━━━━━━━━━━━\u001b[0m\u001b[37m\u001b[0m \u001b[1m7s\u001b[0m 139ms/step - accuracy: 1.0000 - loss: 1.2971e-06 - val_accuracy: 0.9951 - val_loss: 0.0134\n"
     ]
    },
    {
     "name": "stdout",
     "output_type": "stream",
     "text": [
      "Epoch 50/100\n",
      "\u001b[1m52/52\u001b[0m \u001b[32m━━━━━━━━━━━━━━━━━━━━\u001b[0m\u001b[37m\u001b[0m \u001b[1m7s\u001b[0m 129ms/step - accuracy: 1.0000 - loss: 1.1010e-06 - val_accuracy: 0.9951 - val_loss: 0.0138\n",
      "Epoch 51/100\n",
      "\u001b[1m52/52\u001b[0m \u001b[32m━━━━━━━━━━━━━━━━━━━━\u001b[0m\u001b[37m\u001b[0m \u001b[1m7s\u001b[0m 128ms/step - accuracy: 1.0000 - loss: 2.1293e-06 - val_accuracy: 0.9951 - val_loss: 0.0143\n",
      "Epoch 52/100\n",
      "\u001b[1m52/52\u001b[0m \u001b[32m━━━━━━━━━━━━━━━━━━━━\u001b[0m\u001b[37m\u001b[0m \u001b[1m7s\u001b[0m 134ms/step - accuracy: 1.0000 - loss: 1.8644e-06 - val_accuracy: 0.9951 - val_loss: 0.0145\n",
      "Epoch 53/100\n",
      "\u001b[1m52/52\u001b[0m \u001b[32m━━━━━━━━━━━━━━━━━━━━\u001b[0m\u001b[37m\u001b[0m \u001b[1m6s\u001b[0m 115ms/step - accuracy: 1.0000 - loss: 2.4400e-06 - val_accuracy: 0.9951 - val_loss: 0.0138\n",
      "Epoch 54/100\n",
      "\u001b[1m52/52\u001b[0m \u001b[32m━━━━━━━━━━━━━━━━━━━━\u001b[0m\u001b[37m\u001b[0m \u001b[1m7s\u001b[0m 133ms/step - accuracy: 1.0000 - loss: 8.6383e-07 - val_accuracy: 0.9951 - val_loss: 0.0138\n",
      "Epoch 55/100\n",
      "\u001b[1m52/52\u001b[0m \u001b[32m━━━━━━━━━━━━━━━━━━━━\u001b[0m\u001b[37m\u001b[0m \u001b[1m7s\u001b[0m 134ms/step - accuracy: 1.0000 - loss: 2.0739e-06 - val_accuracy: 0.9951 - val_loss: 0.0147\n",
      "Epoch 56/100\n",
      "\u001b[1m52/52\u001b[0m \u001b[32m━━━━━━━━━━━━━━━━━━━━\u001b[0m\u001b[37m\u001b[0m \u001b[1m7s\u001b[0m 125ms/step - accuracy: 1.0000 - loss: 1.0424e-06 - val_accuracy: 0.9951 - val_loss: 0.0149\n",
      "Epoch 57/100\n",
      "\u001b[1m52/52\u001b[0m \u001b[32m━━━━━━━━━━━━━━━━━━━━\u001b[0m\u001b[37m\u001b[0m \u001b[1m6s\u001b[0m 117ms/step - accuracy: 1.0000 - loss: 2.1640e-06 - val_accuracy: 0.9951 - val_loss: 0.0143\n",
      "Epoch 58/100\n",
      "\u001b[1m52/52\u001b[0m \u001b[32m━━━━━━━━━━━━━━━━━━━━\u001b[0m\u001b[37m\u001b[0m \u001b[1m6s\u001b[0m 112ms/step - accuracy: 1.0000 - loss: 2.1654e-06 - val_accuracy: 0.9951 - val_loss: 0.0134\n",
      "Epoch 59/100\n",
      "\u001b[1m52/52\u001b[0m \u001b[32m━━━━━━━━━━━━━━━━━━━━\u001b[0m\u001b[37m\u001b[0m \u001b[1m5s\u001b[0m 98ms/step - accuracy: 1.0000 - loss: 2.5860e-06 - val_accuracy: 0.9951 - val_loss: 0.0130\n",
      "Epoch 60/100\n",
      "\u001b[1m52/52\u001b[0m \u001b[32m━━━━━━━━━━━━━━━━━━━━\u001b[0m\u001b[37m\u001b[0m \u001b[1m6s\u001b[0m 118ms/step - accuracy: 1.0000 - loss: 1.6944e-06 - val_accuracy: 0.9951 - val_loss: 0.0133\n",
      "Epoch 61/100\n",
      "\u001b[1m52/52\u001b[0m \u001b[32m━━━━━━━━━━━━━━━━━━━━\u001b[0m\u001b[37m\u001b[0m \u001b[1m5s\u001b[0m 101ms/step - accuracy: 1.0000 - loss: 1.9282e-06 - val_accuracy: 0.9951 - val_loss: 0.0138\n",
      "Epoch 62/100\n",
      "\u001b[1m52/52\u001b[0m \u001b[32m━━━━━━━━━━━━━━━━━━━━\u001b[0m\u001b[37m\u001b[0m \u001b[1m6s\u001b[0m 122ms/step - accuracy: 1.0000 - loss: 1.1485e-06 - val_accuracy: 0.9951 - val_loss: 0.0141\n",
      "Epoch 63/100\n",
      "\u001b[1m52/52\u001b[0m \u001b[32m━━━━━━━━━━━━━━━━━━━━\u001b[0m\u001b[37m\u001b[0m \u001b[1m6s\u001b[0m 112ms/step - accuracy: 1.0000 - loss: 1.1083e-06 - val_accuracy: 0.9951 - val_loss: 0.0141\n",
      "Epoch 64/100\n",
      "\u001b[1m52/52\u001b[0m \u001b[32m━━━━━━━━━━━━━━━━━━━━\u001b[0m\u001b[37m\u001b[0m \u001b[1m6s\u001b[0m 106ms/step - accuracy: 1.0000 - loss: 8.0853e-07 - val_accuracy: 0.9951 - val_loss: 0.0141\n",
      "Epoch 65/100\n",
      "\u001b[1m52/52\u001b[0m \u001b[32m━━━━━━━━━━━━━━━━━━━━\u001b[0m\u001b[37m\u001b[0m \u001b[1m6s\u001b[0m 108ms/step - accuracy: 1.0000 - loss: 9.6071e-07 - val_accuracy: 0.9951 - val_loss: 0.0136\n",
      "Epoch 66/100\n",
      "\u001b[1m52/52\u001b[0m \u001b[32m━━━━━━━━━━━━━━━━━━━━\u001b[0m\u001b[37m\u001b[0m \u001b[1m6s\u001b[0m 106ms/step - accuracy: 1.0000 - loss: 1.2599e-06 - val_accuracy: 0.9951 - val_loss: 0.0137\n",
      "Epoch 67/100\n",
      "\u001b[1m52/52\u001b[0m \u001b[32m━━━━━━━━━━━━━━━━━━━━\u001b[0m\u001b[37m\u001b[0m \u001b[1m5s\u001b[0m 101ms/step - accuracy: 1.0000 - loss: 9.4272e-07 - val_accuracy: 0.9951 - val_loss: 0.0142\n",
      "Epoch 68/100\n",
      "\u001b[1m52/52\u001b[0m \u001b[32m━━━━━━━━━━━━━━━━━━━━\u001b[0m\u001b[37m\u001b[0m \u001b[1m6s\u001b[0m 108ms/step - accuracy: 1.0000 - loss: 8.2563e-07 - val_accuracy: 0.9951 - val_loss: 0.0143\n",
      "Epoch 69/100\n",
      "\u001b[1m52/52\u001b[0m \u001b[32m━━━━━━━━━━━━━━━━━━━━\u001b[0m\u001b[37m\u001b[0m \u001b[1m10s\u001b[0m 93ms/step - accuracy: 1.0000 - loss: 6.3639e-07 - val_accuracy: 0.9951 - val_loss: 0.0149\n",
      "Epoch 70/100\n",
      "\u001b[1m52/52\u001b[0m \u001b[32m━━━━━━━━━━━━━━━━━━━━\u001b[0m\u001b[37m\u001b[0m \u001b[1m5s\u001b[0m 99ms/step - accuracy: 1.0000 - loss: 6.3085e-07 - val_accuracy: 0.9951 - val_loss: 0.0152\n",
      "Epoch 71/100\n",
      "\u001b[1m52/52\u001b[0m \u001b[32m━━━━━━━━━━━━━━━━━━━━\u001b[0m\u001b[37m\u001b[0m \u001b[1m5s\u001b[0m 102ms/step - accuracy: 1.0000 - loss: 7.1419e-07 - val_accuracy: 0.9951 - val_loss: 0.0153\n",
      "Epoch 72/100\n",
      "\u001b[1m52/52\u001b[0m \u001b[32m━━━━━━━━━━━━━━━━━━━━\u001b[0m\u001b[37m\u001b[0m \u001b[1m5s\u001b[0m 100ms/step - accuracy: 1.0000 - loss: 5.7995e-07 - val_accuracy: 0.9951 - val_loss: 0.0155\n",
      "Epoch 73/100\n",
      "\u001b[1m52/52\u001b[0m \u001b[32m━━━━━━━━━━━━━━━━━━━━\u001b[0m\u001b[37m\u001b[0m \u001b[1m5s\u001b[0m 104ms/step - accuracy: 1.0000 - loss: 5.5648e-07 - val_accuracy: 0.9951 - val_loss: 0.0154\n",
      "Epoch 74/100\n",
      "\u001b[1m52/52\u001b[0m \u001b[32m━━━━━━━━━━━━━━━━━━━━\u001b[0m\u001b[37m\u001b[0m \u001b[1m6s\u001b[0m 107ms/step - accuracy: 1.0000 - loss: 3.3851e-07 - val_accuracy: 0.9951 - val_loss: 0.0155\n",
      "Epoch 75/100\n",
      "\u001b[1m52/52\u001b[0m \u001b[32m━━━━━━━━━━━━━━━━━━━━\u001b[0m\u001b[37m\u001b[0m \u001b[1m6s\u001b[0m 114ms/step - accuracy: 1.0000 - loss: 1.0723e-06 - val_accuracy: 0.9951 - val_loss: 0.0153\n",
      "Epoch 76/100\n",
      "\u001b[1m52/52\u001b[0m \u001b[32m━━━━━━━━━━━━━━━━━━━━\u001b[0m\u001b[37m\u001b[0m \u001b[1m7s\u001b[0m 132ms/step - accuracy: 1.0000 - loss: 4.3300e-07 - val_accuracy: 0.9951 - val_loss: 0.0152\n",
      "Epoch 77/100\n",
      "\u001b[1m52/52\u001b[0m \u001b[32m━━━━━━━━━━━━━━━━━━━━\u001b[0m\u001b[37m\u001b[0m \u001b[1m6s\u001b[0m 123ms/step - accuracy: 1.0000 - loss: 4.8639e-07 - val_accuracy: 0.9951 - val_loss: 0.0151\n",
      "Epoch 78/100\n",
      "\u001b[1m52/52\u001b[0m \u001b[32m━━━━━━━━━━━━━━━━━━━━\u001b[0m\u001b[37m\u001b[0m \u001b[1m7s\u001b[0m 127ms/step - accuracy: 1.0000 - loss: 6.2765e-07 - val_accuracy: 0.9951 - val_loss: 0.0150\n",
      "Epoch 79/100\n",
      "\u001b[1m52/52\u001b[0m \u001b[32m━━━━━━━━━━━━━━━━━━━━\u001b[0m\u001b[37m\u001b[0m \u001b[1m7s\u001b[0m 128ms/step - accuracy: 1.0000 - loss: 6.4909e-07 - val_accuracy: 0.9951 - val_loss: 0.0153\n",
      "Epoch 80/100\n",
      "\u001b[1m52/52\u001b[0m \u001b[32m━━━━━━━━━━━━━━━━━━━━\u001b[0m\u001b[37m\u001b[0m \u001b[1m8s\u001b[0m 145ms/step - accuracy: 1.0000 - loss: 3.3135e-07 - val_accuracy: 0.9951 - val_loss: 0.0160\n",
      "Epoch 81/100\n",
      "\u001b[1m52/52\u001b[0m \u001b[32m━━━━━━━━━━━━━━━━━━━━\u001b[0m\u001b[37m\u001b[0m \u001b[1m11s\u001b[0m 198ms/step - accuracy: 1.0000 - loss: 4.4006e-07 - val_accuracy: 0.9951 - val_loss: 0.0156\n",
      "Epoch 82/100\n",
      "\u001b[1m52/52\u001b[0m \u001b[32m━━━━━━━━━━━━━━━━━━━━\u001b[0m\u001b[37m\u001b[0m \u001b[1m7s\u001b[0m 126ms/step - accuracy: 1.0000 - loss: 6.1725e-07 - val_accuracy: 0.9951 - val_loss: 0.0164\n",
      "Epoch 83/100\n",
      "\u001b[1m52/52\u001b[0m \u001b[32m━━━━━━━━━━━━━━━━━━━━\u001b[0m\u001b[37m\u001b[0m \u001b[1m8s\u001b[0m 142ms/step - accuracy: 1.0000 - loss: 8.7535e-07 - val_accuracy: 0.9951 - val_loss: 0.0174\n",
      "Epoch 84/100\n",
      "\u001b[1m52/52\u001b[0m \u001b[32m━━━━━━━━━━━━━━━━━━━━\u001b[0m\u001b[37m\u001b[0m \u001b[1m7s\u001b[0m 131ms/step - accuracy: 1.0000 - loss: 4.6814e-07 - val_accuracy: 0.9951 - val_loss: 0.0170\n",
      "Epoch 85/100\n",
      "\u001b[1m52/52\u001b[0m \u001b[32m━━━━━━━━━━━━━━━━━━━━\u001b[0m\u001b[37m\u001b[0m \u001b[1m7s\u001b[0m 128ms/step - accuracy: 1.0000 - loss: 1.0159e-06 - val_accuracy: 0.9951 - val_loss: 0.0167\n",
      "Epoch 86/100\n",
      "\u001b[1m52/52\u001b[0m \u001b[32m━━━━━━━━━━━━━━━━━━━━\u001b[0m\u001b[37m\u001b[0m \u001b[1m6s\u001b[0m 115ms/step - accuracy: 1.0000 - loss: 4.0911e-07 - val_accuracy: 0.9951 - val_loss: 0.0162\n",
      "Epoch 87/100\n",
      "\u001b[1m52/52\u001b[0m \u001b[32m━━━━━━━━━━━━━━━━━━━━\u001b[0m\u001b[37m\u001b[0m \u001b[1m5s\u001b[0m 103ms/step - accuracy: 1.0000 - loss: 4.5518e-07 - val_accuracy: 0.9951 - val_loss: 0.0164\n",
      "Epoch 88/100\n",
      "\u001b[1m52/52\u001b[0m \u001b[32m━━━━━━━━━━━━━━━━━━━━\u001b[0m\u001b[37m\u001b[0m \u001b[1m6s\u001b[0m 107ms/step - accuracy: 1.0000 - loss: 3.5252e-07 - val_accuracy: 0.9951 - val_loss: 0.0170\n",
      "Epoch 89/100\n",
      "\u001b[1m52/52\u001b[0m \u001b[32m━━━━━━━━━━━━━━━━━━━━\u001b[0m\u001b[37m\u001b[0m \u001b[1m5s\u001b[0m 98ms/step - accuracy: 1.0000 - loss: 2.6212e-07 - val_accuracy: 0.9951 - val_loss: 0.0194\n",
      "Epoch 90/100\n",
      "\u001b[1m52/52\u001b[0m \u001b[32m━━━━━━━━━━━━━━━━━━━━\u001b[0m\u001b[37m\u001b[0m \u001b[1m5s\u001b[0m 101ms/step - accuracy: 1.0000 - loss: 5.7011e-07 - val_accuracy: 0.9951 - val_loss: 0.0188\n",
      "Epoch 91/100\n",
      "\u001b[1m52/52\u001b[0m \u001b[32m━━━━━━━━━━━━━━━━━━━━\u001b[0m\u001b[37m\u001b[0m \u001b[1m5s\u001b[0m 102ms/step - accuracy: 1.0000 - loss: 3.1486e-07 - val_accuracy: 0.9951 - val_loss: 0.0191\n",
      "Epoch 92/100\n",
      "\u001b[1m52/52\u001b[0m \u001b[32m━━━━━━━━━━━━━━━━━━━━\u001b[0m\u001b[37m\u001b[0m \u001b[1m5s\u001b[0m 101ms/step - accuracy: 1.0000 - loss: 4.0790e-07 - val_accuracy: 0.9951 - val_loss: 0.0190\n",
      "Epoch 93/100\n",
      "\u001b[1m52/52\u001b[0m \u001b[32m━━━━━━━━━━━━━━━━━━━━\u001b[0m\u001b[37m\u001b[0m \u001b[1m6s\u001b[0m 106ms/step - accuracy: 1.0000 - loss: 2.6987e-07 - val_accuracy: 0.9951 - val_loss: 0.0190\n",
      "Epoch 94/100\n",
      "\u001b[1m52/52\u001b[0m \u001b[32m━━━━━━━━━━━━━━━━━━━━\u001b[0m\u001b[37m\u001b[0m \u001b[1m7s\u001b[0m 130ms/step - accuracy: 1.0000 - loss: 3.7759e-07 - val_accuracy: 0.9951 - val_loss: 0.0179\n",
      "Epoch 95/100\n",
      "\u001b[1m52/52\u001b[0m \u001b[32m━━━━━━━━━━━━━━━━━━━━\u001b[0m\u001b[37m\u001b[0m \u001b[1m7s\u001b[0m 137ms/step - accuracy: 1.0000 - loss: 5.6559e-07 - val_accuracy: 0.9951 - val_loss: 0.0174\n",
      "Epoch 96/100\n",
      "\u001b[1m52/52\u001b[0m \u001b[32m━━━━━━━━━━━━━━━━━━━━\u001b[0m\u001b[37m\u001b[0m \u001b[1m7s\u001b[0m 129ms/step - accuracy: 1.0000 - loss: 5.5714e-07 - val_accuracy: 0.9951 - val_loss: 0.0166\n",
      "Epoch 97/100\n",
      "\u001b[1m52/52\u001b[0m \u001b[32m━━━━━━━━━━━━━━━━━━━━\u001b[0m\u001b[37m\u001b[0m \u001b[1m5s\u001b[0m 104ms/step - accuracy: 1.0000 - loss: 3.1614e-07 - val_accuracy: 0.9951 - val_loss: 0.0168\n",
      "Epoch 98/100\n",
      "\u001b[1m52/52\u001b[0m \u001b[32m━━━━━━━━━━━━━━━━━━━━\u001b[0m\u001b[37m\u001b[0m \u001b[1m7s\u001b[0m 126ms/step - accuracy: 1.0000 - loss: 2.5457e-07 - val_accuracy: 0.9951 - val_loss: 0.0169\n"
     ]
    },
    {
     "name": "stdout",
     "output_type": "stream",
     "text": [
      "Epoch 99/100\n",
      "\u001b[1m52/52\u001b[0m \u001b[32m━━━━━━━━━━━━━━━━━━━━\u001b[0m\u001b[37m\u001b[0m \u001b[1m6s\u001b[0m 106ms/step - accuracy: 1.0000 - loss: 2.8812e-07 - val_accuracy: 0.9951 - val_loss: 0.0166\n",
      "Epoch 100/100\n",
      "\u001b[1m52/52\u001b[0m \u001b[32m━━━━━━━━━━━━━━━━━━━━\u001b[0m\u001b[37m\u001b[0m \u001b[1m6s\u001b[0m 112ms/step - accuracy: 1.0000 - loss: 4.3245e-07 - val_accuracy: 0.9951 - val_loss: 0.0209\n",
      "\u001b[1m26/26\u001b[0m \u001b[32m━━━━━━━━━━━━━━━━━━━━\u001b[0m\u001b[37m\u001b[0m \u001b[1m0s\u001b[0m 12ms/step - accuracy: 0.9950 - loss: 0.0158\n",
      "Test Loss: 0.02086487226188183\n",
      "Test Accuracy: 0.9951040148735046\n"
     ]
    }
   ],
   "source": [
    "# Train the model with a different batch size and more epochs\n",
    "history = model.fit(X_train, y_train, validation_data=(X_test, y_test), epochs=100, batch_size=64, verbose=1)\n",
    "\n",
    "# Evaluate the model\n",
    "loss, accuracy = model.evaluate(X_test, y_test, verbose=1)\n",
    "print(f\"Test Loss: {loss}\")\n",
    "print(f\"Test Accuracy: {accuracy}\")\n"
   ]
  },
  {
   "cell_type": "code",
   "execution_count": 22,
   "metadata": {
    "executionInfo": {
     "elapsed": 4,
     "status": "ok",
     "timestamp": 1716691539045,
     "user": {
      "displayName": "Caio Oliveira",
      "userId": "01921506838875341927"
     },
     "user_tz": -60
    },
    "id": "rgFW0BbevP5T"
   },
   "outputs": [],
   "source": []
  }
 ],
 "metadata": {
  "colab": {
   "authorship_tag": "ABX9TyOmycDM2BzUb3eRb/mnza6i",
   "provenance": []
  },
  "kernelspec": {
   "display_name": "Python 3 (ipykernel)",
   "language": "python",
   "name": "python3"
  },
  "language_info": {
   "codemirror_mode": {
    "name": "ipython",
    "version": 3
   },
   "file_extension": ".py",
   "mimetype": "text/x-python",
   "name": "python",
   "nbconvert_exporter": "python",
   "pygments_lexer": "ipython3",
   "version": "3.11.7"
  }
 },
 "nbformat": 4,
 "nbformat_minor": 1
}
